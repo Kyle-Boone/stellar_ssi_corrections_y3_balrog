{
 "cells": [
  {
   "cell_type": "markdown",
   "id": "7987d49d-dbb0-4efd-9def-1c2b599c8a88",
   "metadata": {},
   "source": [
    "# Balrog Galaxies Classified as Stars\n",
    "\n",
    "### Follow CutGalaxies program in StellarStreams/PaperPlots\n",
    "\n",
    "On top of looking at maximum deviation for each survey property, record the standard deviations to probe if this point is just an outlier or not. Try averaging this out over each survey property.\n",
    "\n",
    "On top of these averages, look at middle 90% over survey properties to see if these are being brought up by single bad properties. Do this both for the maximum deviation and the standard deviation.\n",
    "\n",
    "Look at upper RA 30 line and average out survey properties on it. Figure out which bin these fall in for each survey property (might have to do this live time). Pick out a couple areas of sky (random spot that's decent, near galactic plane). For the testing corrected data, pick out these bins from each survey property and multiply the relative detection rates together. DON'T INVERSE IF BELOW 1, THESE ARE SEPARABLE AND WE WANT TO TAKE THESE CORRELATIONS INTO ACCOUNT. Look at how these values approach 1 as the number of objects used in training increases.\n",
    "\n",
    "## NOTE:\n",
    "\n",
    "Some of the Test1A files from below are already actually calculated out in my pipeline by default which should hopefully make that easier. Everything will happen at a rewolution of 4096 now though."
   ]
  },
  {
   "cell_type": "code",
   "execution_count": 1,
   "id": "afe123fa-4487-48a9-b1f4-b0705ec116e4",
   "metadata": {},
   "outputs": [],
   "source": [
    "import sys\n",
    "sys.path.insert(1, '/afs/hep.wisc.edu/home/kkboone/software/StarWeights/FinalPipeline')\n",
    "import fitsio\n",
    "import numpy as np\n",
    "import healpy as hp\n",
    "import scipy as sc\n",
    "import matplotlib.pyplot as plt\n",
    "import matplotlib.style\n",
    "import matplotlib\n",
    "from scipy import interpolate as inter\n",
    "from astropy.table import Table\n",
    "import StellarConfig as strConfig\n",
    "import Config\n",
    "# from matplotlib.path import Path Cut has already been applied\n",
    "matplotlib.style.use('des_dr1')"
   ]
  },
  {
   "cell_type": "code",
   "execution_count": 2,
   "id": "da4029e4-27c8-41b2-ad85-109bbd495e21",
   "metadata": {},
   "outputs": [],
   "source": [
    "directory = '/hdfs/bechtol/balrog/y3/y3a2_survey_conditions_maps/Kyle_Stuff/MaximumLikelihood/FinalPipeline/Tests/Object_Counts/'"
   ]
  },
  {
   "cell_type": "markdown",
   "id": "263e168c-bbc3-465c-81d3-bc678e492dc6",
   "metadata": {},
   "source": [
    "##  Average SP Values For Areas of Interest"
   ]
  },
  {
   "cell_type": "code",
   "execution_count": 3,
   "id": "ebdbb049-4217-4272-957e-a4383ab5c0b5",
   "metadata": {},
   "outputs": [],
   "source": [
    "pixFile = strConfig.pixFile\n",
    "condFiles = strConfig.condFiles"
   ]
  },
  {
   "cell_type": "code",
   "execution_count": 4,
   "id": "4bdae935-b126-4609-b898-a6127140b8f5",
   "metadata": {},
   "outputs": [],
   "source": [
    "condPix = fitsio.read(pixFile)['PIXEL']"
   ]
  },
  {
   "cell_type": "code",
   "execution_count": 5,
   "id": "32614923-779a-4b3c-9c40-620c462d214c",
   "metadata": {},
   "outputs": [],
   "source": [
    "helpRa, helpDec = hp.pixelfunc.pix2ang(4096, np.arange(12*(4096**2)), nest=True, lonlat=True)"
   ]
  },
  {
   "cell_type": "markdown",
   "id": "b84547f6-45ed-4b5f-ab9f-4a8109451b2b",
   "metadata": {},
   "source": [
    "### RA 30 Line"
   ]
  },
  {
   "cell_type": "code",
   "execution_count": 6,
   "id": "67eafc23-7501-4f8f-8458-b1d3b35021d8",
   "metadata": {},
   "outputs": [],
   "source": [
    "ra30Pix = np.where((helpRa >= 27) & (helpRa <= 29.5) & (helpDec >= -20) & (helpDec <= -5))[0]\n",
    "ra30Crop = np.isin(condPix, ra30Pix)"
   ]
  },
  {
   "cell_type": "markdown",
   "id": "5ed749e4-3974-445b-8be4-763086f4982c",
   "metadata": {},
   "source": [
    "### Galactic Plane"
   ]
  },
  {
   "cell_type": "code",
   "execution_count": 7,
   "id": "8a1d670b-3c0b-468c-a7fb-4fae88b9a531",
   "metadata": {},
   "outputs": [],
   "source": [
    "galaPlanePix = np.where((helpRa >= 270) & (helpRa <= 315) & (helpDec <= -30))[0]\n",
    "galaPlaneCrop = np.isin(condPix, galaPlanePix)"
   ]
  },
  {
   "cell_type": "markdown",
   "id": "269de826-66d0-42d0-a7ac-fe5bfedf826c",
   "metadata": {},
   "source": [
    "### Random Area"
   ]
  },
  {
   "cell_type": "code",
   "execution_count": 8,
   "id": "932b8f42-0494-4b6f-b08e-47465584dec5",
   "metadata": {},
   "outputs": [],
   "source": [
    "randomPix = np.where((helpRa >= 40) & (helpRa <= 50) & (helpDec >= -25) & (helpDec <= -20))[0]\n",
    "randomCrop = np.isin(condPix, randomPix)"
   ]
  },
  {
   "cell_type": "code",
   "execution_count": 9,
   "id": "37b846b7-319c-482a-9ff2-b7e438c82026",
   "metadata": {},
   "outputs": [],
   "source": [
    "# ra30Conds = []\n",
    "# galaPlaneConds = []\n",
    "# randomConds = []\n",
    "\n",
    "# for condFile in condFiles:\n",
    "#     condData = fitsio.read(condFile)['SIGNAL']\n",
    "#     ra30Conds.append(np.average(condData[ra30Crop]))\n",
    "#     galaPlaneConds.append(np.average(condData[galaPlaneCrop]))\n",
    "#     randomConds.append(np.average(condData[randomCrop]))\n",
    "    \n",
    "# ra30Conds = np.array(ra30Conds)\n",
    "# galaPlaneConds = np.array(galaPlaneConds)\n",
    "# randomConds = np.array(randomConds)"
   ]
  },
  {
   "cell_type": "code",
   "execution_count": 10,
   "id": "56ea23cf-424d-4f8f-9cbf-3dc741bf37d8",
   "metadata": {},
   "outputs": [],
   "source": [
    "conditionsFile = directory + 'Three_Locations_Properties.fits'\n",
    "# conditions_table = Table()\n",
    "# conditions_table['RA_30'] = ra30Conds\n",
    "# conditions_table['GALA_PLANE'] = galaPlaneConds\n",
    "# conditions_table['RANDOM'] = randomConds\n",
    "# conditions_table.write(conditionsFile, overwrite = True)"
   ]
  },
  {
   "cell_type": "code",
   "execution_count": 11,
   "id": "3ebaa3b9-8b66-4588-b76d-57f62677dd68",
   "metadata": {},
   "outputs": [],
   "source": [
    "ra30Conds = fitsio.read(conditionsFile)['RA_30']\n",
    "galaPlaneConds = fitsio.read(conditionsFile)['GALA_PLANE']\n",
    "randomConds = fitsio.read(conditionsFile)['RANDOM']"
   ]
  },
  {
   "cell_type": "markdown",
   "id": "e7e0c3ed-4f2b-446f-8b56-ae9f24270689",
   "metadata": {},
   "source": [
    "## Beginning of Main Algorithm"
   ]
  },
  {
   "cell_type": "code",
   "execution_count": 12,
   "id": "ede8ffb2-b145-4c4e-a23a-1bf52cfba095",
   "metadata": {},
   "outputs": [],
   "source": [
    "def mostSigInd(y):\n",
    "    maxSquaredDiff = 0\n",
    "    index = -1\n",
    "    \n",
    "    maxSingError = np.max(np.abs(y - 1))\n",
    "    \n",
    "    if maxSingError <= cutOffPercent:\n",
    "        return index, maxSingError\n",
    "    \n",
    "    for i in range(len(y)):\n",
    "        yi = y[i]\n",
    "        \n",
    "        diff = np.sum((yi - 1)**2)\n",
    "        \n",
    "        if diff > maxSquaredDiff:\n",
    "            maxSquaredDiff = diff\n",
    "            index = i\n",
    "            \n",
    "    return index, maxSingError"
   ]
  },
  {
   "cell_type": "code",
   "execution_count": 13,
   "id": "5dded095-a01a-4e75-ad4a-683ed50cadce",
   "metadata": {},
   "outputs": [],
   "source": [
    "cutOffPercent = .01\n",
    "res = 4096\n",
    "binNum = 10\n",
    "classCut = 1.5\n",
    "# path = strConfig.path Cut has already been applied\n",
    "# mu = strConfig.mu\n",
    "rMagCut = [0, 22.9]\n",
    "conditions = Config.conditions"
   ]
  },
  {
   "cell_type": "code",
   "execution_count": 14,
   "id": "c3742f32-507d-40b1-a66f-68ef5a678e81",
   "metadata": {},
   "outputs": [],
   "source": [
    "validPixFile = strConfig.detGalaAllPosFile"
   ]
  },
  {
   "cell_type": "code",
   "execution_count": 15,
   "id": "71749c45-b9e0-47f7-8317-3895355aac13",
   "metadata": {},
   "outputs": [],
   "source": [
    "validPix = np.unique(fitsio.read(validPixFile)['PIXEL'])"
   ]
  },
  {
   "cell_type": "code",
   "execution_count": 16,
   "id": "8a7f7784-0c29-4199-a8b2-95f0346f409a",
   "metadata": {},
   "outputs": [],
   "source": [
    "# This includes a test1a part\n",
    "oldValidPixFile = '/hdfs/bechtol/balrog/y3/y3a2_survey_conditions_maps/Kyle_Stuff/MaximumLikelihood/BalrogTests/Test1a/ValidPix.fits'"
   ]
  },
  {
   "cell_type": "code",
   "execution_count": 17,
   "id": "15a15c2c-43df-49ce-aa48-931ffac9229d",
   "metadata": {},
   "outputs": [],
   "source": [
    "oldValidPix = fitsio.read(oldValidPixFile)['PIXEL']"
   ]
  },
  {
   "cell_type": "code",
   "execution_count": 18,
   "id": "fd959798-af60-4942-8354-67699e8d3238",
   "metadata": {},
   "outputs": [],
   "source": [
    "# Already has color and quality cuts applied.\n",
    "matGalaFile = strConfig.matGalaFile"
   ]
  },
  {
   "cell_type": "code",
   "execution_count": 19,
   "id": "190441ec-85a6-42b2-9f77-38846d32c495",
   "metadata": {},
   "outputs": [],
   "source": [
    "matGalaData = fitsio.read(matGalaFile)"
   ]
  },
  {
   "cell_type": "code",
   "execution_count": 20,
   "id": "ddb55d09-90a3-406f-a1f1-88d13a52d13a",
   "metadata": {},
   "outputs": [],
   "source": [
    "matGalaRA = matGalaData['RA']\n",
    "matGalaDEC = matGalaData['DEC']\n",
    "# matGalaGMAG = matGalaData['GMAG'] Unnecessary, cuts are based on RMAG\n",
    "matGalaRMAG = matGalaData['RMAG']\n",
    "matGalaCLASS = matGalaData['CLASS']\n",
    "\n",
    "# Naming conventions changing to match original file\n",
    "matPix = hp.ang2pix(res, matGalaRA, matGalaDEC, nest = True, lonlat = True)\n",
    "\n",
    "pixCut = np.isin(matPix, validPix)\n",
    "matPix = matPix[pixCut]\n",
    "matRmag = matGalaRMAG[pixCut]\n",
    "matClass = matGalaCLASS[pixCut]\n",
    "\n",
    "magCut = np.where((matRmag <= rMagCut[1]) & (matRmag > rMagCut[0]))[0]\n",
    "matPix = matPix[magCut]\n",
    "matClass = matClass[magCut]\n",
    "\n",
    "classCuts = np.where((matClass >= 0) & (matClass <= classCut))[0]\n",
    "matPix = matPix[classCuts]\n",
    "\n",
    "origDetPix = np.copy(matPix)\n",
    "origDetPix = np.sort(origDetPix)"
   ]
  },
  {
   "cell_type": "code",
   "execution_count": 21,
   "id": "655c5918-b272-47eb-97de-c37f7977797d",
   "metadata": {},
   "outputs": [],
   "source": [
    "_, origAllDetPixCounts = np.unique(np.append(validPix, origDetPix), return_counts = True)\n",
    "origAllDetPixCounts = origAllDetPixCounts - 1"
   ]
  },
  {
   "cell_type": "code",
   "execution_count": 22,
   "id": "511a2b24-f96b-426e-9359-8a1a896d8cd9",
   "metadata": {},
   "outputs": [],
   "source": [
    "origCondFiles = []\n",
    "for cond in conditions:\n",
    "    origCondFiles.append('/hdfs/bechtol/balrog/y3/y3a2_survey_conditions_maps/Kyle_Stuff/MaximumLikelihood/BalrogTests/Test1a/Conds/' + cond + '.fits')\n",
    "origCondFiles = np.array(origCondFiles)\n",
    "\n",
    "origCondMaps = []\n",
    "newPixCrop = np.isin(oldValidPix, validPix)\n",
    "\n",
    "# This loops over every condition file\n",
    "for condFile in origCondFiles:\n",
    "    condData = fitsio.read(condFile) # This reads in the data\n",
    "    origCondMaps.append(condData['SIGNAL'][newPixCrop]) # Only stores the values that are in pixels with injections\n",
    "\n",
    "origCondMaps = np.array(origCondMaps)"
   ]
  },
  {
   "cell_type": "code",
   "execution_count": 23,
   "id": "95c15c6e-af5a-45cc-8831-2cfc72dc2691",
   "metadata": {},
   "outputs": [],
   "source": [
    "# 1.5 for brightest bin\n",
    "persToUse = np.logspace(1.5, 2, 20)"
   ]
  },
  {
   "cell_type": "code",
   "execution_count": 24,
   "id": "1f412634-d75d-4fe2-8a06-bdb29ec184ae",
   "metadata": {},
   "outputs": [
    {
     "name": "stdout",
     "output_type": "stream",
     "text": [
      "1.0: 0.14300321392775056\n"
     ]
    }
   ],
   "source": [
    "# I think just change this to the valud pix but drop off the np.unique()\n",
    "allPixFile = strConfig.detGalaAllPosFile\n",
    "\n",
    "origInjData = fitsio.read(allPixFile)\n",
    "\n",
    "origInjPix = origInjData['PIXEL']\n",
    "origValidPix = np.unique(origInjPix)\n",
    "\n",
    "origInjPix = np.sort(origInjPix)\n",
    "\n",
    "# Everything from here until the main loop is to generate matchInds\n",
    "\n",
    "origInjPixUnique, origInjPixCounts = np.unique(origInjPix, return_counts = True)\n",
    "\n",
    "matchInds = np.zeros(len(origDetPix), dtype = int)\n",
    "\n",
    "startInjInds = np.append(np.array([0]), np.cumsum(origInjPixCounts)[:-1])\n",
    "\n",
    "startDetInds = np.append(np.array([0]), np.cumsum(origAllDetPixCounts)[:-1])\n",
    "\n",
    "for i in np.arange(len(origAllDetPixCounts)):\n",
    "    if origAllDetPixCounts[i] == 0:\n",
    "        continue\n",
    "    matchInds[startDetInds[i]: startDetInds[i] + origAllDetPixCounts[i]] = np.arange(origAllDetPixCounts[i]).astype(int) + startInjInds[i]\n",
    "    \n",
    "for perObjectsToUse in persToUse:\n",
    "    \n",
    "    if perObjectsToUse < 95:\n",
    "        continue\n",
    "    \n",
    "    includeInds = np.full(len(origInjPix), False, dtype = bool)\n",
    "    includeInds[0:int((float(perObjectsToUse)*len(includeInds)) / 100)] = True\n",
    "    np.random.shuffle(includeInds)\n",
    "    \n",
    "    detPix = origDetPix[includeInds[matchInds]]\n",
    "    injPix = origInjPix[includeInds]\n",
    "\n",
    "    validPix =  np.unique(injPix)\n",
    "    \n",
    "    condCrop = np.isin(origValidPix, validPix)\n",
    "    \n",
    "    constantTrainPixIndicator, origDetPixCounts = np.unique(np.append(validPix, detPix), return_counts = True)\n",
    "    origDetPixCounts = origDetPixCounts - 1\n",
    "    \n",
    "    condMaps = []\n",
    "\n",
    "    # This loops over every condition file\n",
    "    for origCondMap in origCondMaps:\n",
    "        condMaps.append(origCondMap[condCrop]) # Only stores the values that are in pixels with injections\n",
    "\n",
    "    condMaps = np.array(condMaps)\n",
    "    \n",
    "    trainInds = np.full(len(condMaps[0]), False, dtype = bool)\n",
    "    trainInds[0:int(0.8*len(trainInds))] = True\n",
    "    np.random.shuffle(trainInds)\n",
    "    \n",
    "    aveDetTrain = np.sum(origDetPixCounts[trainInds]) / len(origDetPixCounts[trainInds])\n",
    "\n",
    "    sortInds = []\n",
    "    for i in range(len(condMaps)):\n",
    "        sortInds.append(condMaps[i][trainInds].argsort())\n",
    "    sortInds = np.array(sortInds)\n",
    "    \n",
    "    binIndLims = [0]\n",
    "\n",
    "    for j in range(binNum):\n",
    "        binIndLims.append(int((np.sum(trainInds) - binIndLims[-1]) / (binNum - j)) + (binIndLims[-1]))\n",
    "        \n",
    "    xBins = []\n",
    "\n",
    "    for i in range(len(condMaps)):\n",
    "        cond_Map_Sort = condMaps[i][trainInds][sortInds[i][::1]]\n",
    "        condBins = []\n",
    "        for j in range(binNum):\n",
    "            condBins.append(cond_Map_Sort[binIndLims[j]:binIndLims[j+1]])\n",
    "        indXBin = []\n",
    "\n",
    "        for j in range(binNum):\n",
    "            indXBin.append(np.sum(condBins[j]) / len(condBins[j]))\n",
    "\n",
    "        xBins.append(np.array(indXBin))\n",
    "\n",
    "    xBins = np.array(xBins)\n",
    "    \n",
    "    yBinsOrig = []\n",
    "    for i in range(len(condMaps)):\n",
    "        detSort = origDetPixCounts[trainInds][sortInds[i][::1]]\n",
    "        detBins = []\n",
    "        for j in range(binNum):\n",
    "            detBins.append(detSort[binIndLims[j]:binIndLims[j+1]])\n",
    "        indYBinOrig = []\n",
    "\n",
    "        for j in range(binNum):\n",
    "            indYBinOrig.append(np.sum(detBins[j]) / (aveDetTrain * len(detBins[j])))\n",
    "\n",
    "        yBinsOrig.append(np.array(indYBinOrig))\n",
    "\n",
    "    yBinsOrig = np.array(yBinsOrig)\n",
    "    \n",
    "    detPixCounts = np.copy(origDetPixCounts)\n",
    "    \n",
    "    allErrors = []\n",
    "\n",
    "    while(True):\n",
    "\n",
    "        yBins = []\n",
    "        for i in range(len(condMaps)):\n",
    "            detSort = detPixCounts[trainInds][sortInds[i][::1]]\n",
    "            detBins = []\n",
    "            for j in range(binNum):\n",
    "                detBins.append(detSort[binIndLims[j]:binIndLims[j+1]])\n",
    "            indYBin = []\n",
    "\n",
    "            for j in range(binNum):\n",
    "                indYBin.append(np.sum(detBins[j]) / (aveDetTrain * len(detBins[j])))\n",
    "\n",
    "            yBins.append(np.array(indYBin))\n",
    "\n",
    "        yBins = np.array(yBins)\n",
    "\n",
    "        index, maxErr = mostSigInd(yBins)\n",
    "        if index == -1:\n",
    "            break\n",
    "\n",
    "        allErrors.append(maxErr)\n",
    "\n",
    "        corrFunc = inter.interp1d(xBins[index], yBins[index], bounds_error = False, fill_value = (yBins[index][0], yBins[index][-1]))\n",
    "\n",
    "        detPixCounts = detPixCounts / (corrFunc(condMaps[index]))\n",
    "\n",
    "        detPixCounts = detPixCounts * aveDetTrain / (np.sum(detPixCounts[trainInds]) / len(detPixCounts[trainInds]))\n",
    "        \n",
    "    binIndLims = [0]\n",
    "\n",
    "    for j in range(binNum):\n",
    "        binIndLims.append(int((np.sum(~trainInds) - binIndLims[-1]) / (binNum - j)) + (binIndLims[-1]))\n",
    "        \n",
    "    condMaxErrors = []\n",
    "    condSTDs = []\n",
    "    condRA30 = []\n",
    "    condGalaPlane = []\n",
    "    condRandom = []\n",
    "    \n",
    "    aveDetTest = np.sum(detPixCounts[~trainInds]) / len(detPixCounts[~trainInds])\n",
    "\n",
    "    for condInd in range(len(condMaps)):\n",
    "        condMap = condMaps[condInd]\n",
    "        condSortInds = condMap[~trainInds].argsort()\n",
    "        \n",
    "        cond_Map_Sort = condMaps[i][~trainInds][condSortInds[::1]]\n",
    "        condBins = []\n",
    "        for j in range(binNum):\n",
    "            condBins.append(cond_Map_Sort[binIndLims[j]:binIndLims[j+1]])\n",
    "        xBinCond = []\n",
    "\n",
    "        for j in range(binNum):\n",
    "            xBinCond.append(np.sum(condBins[j]) / len(condBins[j]))\n",
    "\n",
    "        detStarTemp = detPixCounts[~trainInds][condSortInds[::1]]\n",
    "\n",
    "        detBins = []\n",
    "\n",
    "        for j in range(10):\n",
    "            detBins.append(detStarTemp[binIndLims[j]:binIndLims[j+1]])\n",
    "\n",
    "        yBinCond = []\n",
    "\n",
    "        for j in range(10):\n",
    "            yBinCond.append(np.sum(detBins[j]) / (aveDetTest * len(detBins[j])))\n",
    "\n",
    "        yBinCond = np.array(yBinCond)\n",
    "        \n",
    "        condErrFunc = inter.interp1d(xBinCond, yBinCond, bounds_error = False, fill_value = (yBinCond[0], yBinCond[-1]))\n",
    "\n",
    "        condMaxErrors.append(np.max(np.abs(yBinCond - 1)))\n",
    "        condSTDs.append(np.std(yBinCond))\n",
    "        condRA30.append(condErrFunc(ra30Conds[condInd]))\n",
    "        condGalaPlane.append(condErrFunc(galaPlaneConds[condInd]))\n",
    "        condRandom.append(condErrFunc(randomConds[condInd]))\n",
    "        \n",
    "    condErrorsFile = directory + 'Galaxies/' + str(round(perObjectsToUse / 100, 3)) + '_Percent_' + str(rMagCut[0]) + '_' + str(rMagCut[1]) + '_Cond_Errors.fits'\n",
    "    my_table = Table()\n",
    "    my_table['Max_Errors'] = condMaxErrors\n",
    "    my_table['Standard_Devs'] = condSTDs\n",
    "    my_table['RA_30'] = condRA30\n",
    "    my_table['GALA_PLANE'] = condGalaPlane\n",
    "    my_table['RANDOM'] = condRandom\n",
    "    my_table.write(condErrorsFile, overwrite = True)\n",
    "    print(str(round(perObjectsToUse / 100, 3)) + ': ' + str(np.average(condMaxErrors)))"
   ]
  }
 ],
 "metadata": {
  "kernelspec": {
   "display_name": "Python 3 (ipykernel)",
   "language": "python",
   "name": "python3"
  },
  "language_info": {
   "codemirror_mode": {
    "name": "ipython",
    "version": 3
   },
   "file_extension": ".py",
   "mimetype": "text/x-python",
   "name": "python",
   "nbconvert_exporter": "python",
   "pygments_lexer": "ipython3",
   "version": "3.9.12"
  }
 },
 "nbformat": 4,
 "nbformat_minor": 5
}
