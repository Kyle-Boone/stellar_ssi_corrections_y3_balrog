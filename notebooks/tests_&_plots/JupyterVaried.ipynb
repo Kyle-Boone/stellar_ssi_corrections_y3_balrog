{
 "cells": [
  {
   "cell_type": "code",
   "execution_count": 1,
   "id": "8031c3e5-b0fc-4658-8331-5d96726358d7",
   "metadata": {},
   "outputs": [],
   "source": [
    "import sys\n",
    "sys.path.insert(1, '/afs/hep.wisc.edu/home/kkboone/software/StarWeights/FinalPipeline')\n",
    "import numpy as np\n",
    "import matplotlib.pyplot as plt\n",
    "import fitsio\n",
    "import astropy.io.fits as fits\n",
    "from astropy.table import Table\n",
    "import healpy as hp\n",
    "import healsparse as hsp\n",
    "import skyproj\n",
    "from os import listdir\n",
    "import astropy.units as u\n",
    "from astropy.coordinates import SkyCoord\n",
    "import Config\n",
    "import StellarConfig as strConfig\n",
    "from CropSurveyProperties import *\n",
    "from GetObjects import *\n",
    "from Classification import *\n",
    "from Detection import *"
   ]
  },
  {
   "cell_type": "code",
   "execution_count": 14,
   "id": "1dc9763a-0e42-44f1-bae3-b1d097577f8e",
   "metadata": {},
   "outputs": [
    {
     "name": "stdin",
     "output_type": "stream",
     "text": [
      "Enter percent of objects to use:  40\n",
      "Enter random seed (enter a negative seed to have the seed be 0 but stored in a different file):  1\n"
     ]
    }
   ],
   "source": [
    "perObjects = int(input(\"Enter percent of objects to use: \"))\n",
    "seed = int(input(\"Enter random seed (enter a negative seed to have the seed be 0 but stored in a different file): \"))\n",
    "\n",
    "stellarDir = '/hdfs/bechtol/balrog/y3/y3a2_survey_conditions_maps/Kyle_Stuff/MaximumLikelihood/FinalPipeline/Tests/Percent_Used/' + str(perObjects) + '/'"
   ]
  },
  {
   "cell_type": "code",
   "execution_count": 3,
   "id": "fabf40d4-ef13-4920-ab96-875fc89c2490",
   "metadata": {},
   "outputs": [],
   "source": [
    "res = strConfig.res\n",
    "numMagBins = strConfig.numMagBins\n",
    "numBins = strConfig.numBins\n",
    "classCutoff = strConfig.classCutoff\n",
    "goldCols = strConfig.goldCols\n",
    "gCut = strConfig.gCut\n",
    "magBins = strConfig.magBins\n",
    "cutOffPercent = strConfig.cutOffPercent\n",
    "binNum = strConfig.binNum\n",
    "\n",
    "deepCols = strConfig.deepCols\n",
    "\n",
    "path = strConfig.path\n",
    "mu = strConfig.mu\n",
    "\n",
    "matBalrGalaFile = strConfig.matBalrGalaFile\n",
    "detBalrGalaFile = strConfig.detBalrGalaFile\n",
    "matBalrStarFile = strConfig.matBalrStarFile\n",
    "detBalrStarFile = strConfig.detBalrStarFile\n",
    "\n",
    "deepFiles = strConfig.deepFiles\n",
    "pixFile = strConfig.pixFile\n",
    "condFiles = strConfig.condFiles\n",
    "\n",
    "validPix = fitsio.read(pixFile)['PIXEL']\n",
    "pixCheck = np.full(12*(res**2), False, dtype = bool)\n",
    "pixCheck[validPix] = True\n",
    "\n",
    "goldMoreInfoStarFiles = strConfig.goldMoreInfoStarFiles\n",
    "goldMoreInfoGalaFiles = strConfig.goldMoreInfoGalaFiles\n",
    "\n",
    "matStarFile = stellarDir + 'InjectionData/Mat_Stars_'+str(seed)+'.fits'\n",
    "detStarAllPosFile = stellarDir + 'InjectionData/Det_Stars_All_Position_Data_'+str(seed)+'.fits'\n",
    "\n",
    "matGalaFile = stellarDir + 'InjectionData/Mat_Galaxies_'+str(seed)+'.fits'\n",
    "detGalaAllPosFile = stellarDir + 'InjectionData/Det_Galaxies_All_Position_Data_'+str(seed)+'.fits'\n",
    "\n",
    "calibrationFile = stellarDir + 'Calibration/Calibrations_'+str(seed)+'.fits'\n",
    "\n",
    "starDir = stellarDir + 'Stars/'\n",
    "\n",
    "starExtrFiles = []\n",
    "starTrainFiles =  []\n",
    "starProbFiles = []\n",
    "for i in np.arange(numMagBins):\n",
    "    starExtrFiles.append(starDir + 'Star_Extr_Bin' + str(i+1) + '_'+str(seed)+'.fits')\n",
    "    starTrainFiles.append(starDir + 'Star_Train_Bin' + str(i+1) + '_'+str(seed)+'.fits')\n",
    "    starProbFiles.append(starDir + 'Star_Prob_Bin' + str(i+1) + '_'+str(seed)+'.fits')\n",
    "    \n",
    "starDetAsStarExtrFiles = []\n",
    "starDetAsStarTrainFiles =  []\n",
    "starDetAsStarProbFiles = []\n",
    "for i in np.arange(numMagBins):\n",
    "    starDetAsStarExtrFiles.append(starDir + 'Star_Det_As_Star_Extr_Bin' + str(i+1) + '_'+str(seed)+'.fits')\n",
    "    starDetAsStarTrainFiles.append(starDir + 'Star_Det_As_Star_Train_Bin' + str(i+1) + '_'+str(seed)+'.fits')\n",
    "    starDetAsStarProbFiles.append(starDir + 'Star_Det_As_Star_Prob_Bin' + str(i+1) + '_'+str(seed)+'.fits')\n",
    "    \n",
    "galaDir = stellarDir + 'Galaxies/'\n",
    "\n",
    "galaExtrFiles = []\n",
    "galaTrainFiles =  []\n",
    "galaProbFiles = []\n",
    "for i in np.arange(numMagBins):\n",
    "    galaExtrFiles.append(galaDir + 'Gala_Extr_Bin' + str(i+1) + '_'+str(seed)+'.fits')\n",
    "    galaTrainFiles.append(galaDir + 'Gala_Train_Bin' + str(i+1) + '_'+str(seed)+'.fits')\n",
    "    galaProbFiles.append(galaDir + 'Gala_Prob_Bin' + str(i+1) + '_'+str(seed)+'.fits')\n",
    "    \n",
    "galaDetAsStarExtrFiles = []\n",
    "galaDetAsStarTrainFiles =  []\n",
    "galaDetAsStarProbFiles = []\n",
    "for i in np.arange(numMagBins):\n",
    "    galaDetAsStarExtrFiles.append(galaDir + 'Gala_Det_As_Star_Extr_Bin' + str(i+1) + '_'+str(seed)+'.fits')\n",
    "    galaDetAsStarTrainFiles.append(galaDir + 'Gala_Det_As_Star_Train_Bin' + str(i+1) + '_'+str(seed)+'.fits')\n",
    "    galaDetAsStarProbFiles.append(galaDir + 'Gala_Det_As_Star_Prob_Bin' + str(i+1) + '_'+str(seed)+'.fits')"
   ]
  },
  {
   "cell_type": "code",
   "execution_count": 15,
   "id": "00a35828-b820-46f6-a507-5319e7528023",
   "metadata": {},
   "outputs": [
    {
     "data": {
      "text/plain": [
       "25184661"
      ]
     },
     "execution_count": 15,
     "metadata": {},
     "output_type": "execute_result"
    }
   ],
   "source": [
    "len(validPix)"
   ]
  },
  {
   "cell_type": "code",
   "execution_count": 4,
   "id": "8ddad961-fd5a-4c73-875d-cff583379c2b",
   "metadata": {},
   "outputs": [
    {
     "data": {
      "text/plain": [
       "9570148"
      ]
     },
     "execution_count": 4,
     "metadata": {},
     "output_type": "execute_result"
    }
   ],
   "source": [
    "len(fitsio.read(galaDetAsStarProbFiles[-1])['SIGNAL'])"
   ]
  },
  {
   "cell_type": "code",
   "execution_count": 5,
   "id": "8c0c8b69-cca4-4d14-b097-ddc46a76b489",
   "metadata": {},
   "outputs": [],
   "source": [
    "# # Generate random id's, this has already been done\n",
    "    \n",
    "galaID = fitsio.read(detBalrGalaFile, columns = ['bal_id'])['bal_id']\n",
    "\n",
    "# np.random.seed(np.max(np.array([seed, 0])))\n",
    "\n",
    "# includeInds = np.full(len(galaID), False, dtype = bool)\n",
    "# includeInds[0:int((float(perObjects)*len(includeInds)) / 100)] = True\n",
    "# np.random.shuffle(includeInds)\n",
    "\n",
    "# valIDFile = stellarDir + 'InjectionData/Val_ID_'+str(seed)+'.fits'\n",
    "# my_table = Table()\n",
    "# my_table['ID'] = galaID[includeInds]\n",
    "# my_table.write(valIDFile, overwrite = True)"
   ]
  },
  {
   "cell_type": "code",
   "execution_count": 8,
   "id": "c3ea21cf-84f5-4b0a-9cc4-66cc72ffe38b",
   "metadata": {},
   "outputs": [
    {
     "data": {
      "text/plain": [
       "13221066"
      ]
     },
     "execution_count": 8,
     "metadata": {},
     "output_type": "execute_result"
    }
   ],
   "source": [
    "int(len(galaID) * 0.5)"
   ]
  },
  {
   "cell_type": "code",
   "execution_count": 46,
   "id": "9c1f520e-aae1-4b64-bf1e-e206524d261a",
   "metadata": {},
   "outputs": [],
   "source": [
    "valIDFile = stellarDir + 'InjectionData/Val_ID_'+str(seed)+'.fits'\n",
    "storedID = fitsio.read(valIDFile)['ID']"
   ]
  },
  {
   "cell_type": "code",
   "execution_count": 47,
   "id": "e056b110-08bf-4212-bc52-028d89898135",
   "metadata": {},
   "outputs": [],
   "source": [
    "numAdd = int(perObjects * len(galaID) / 80) - len(storedID)\n",
    "addIDs = galaID[~np.isin(galaID, storedID)]"
   ]
  },
  {
   "cell_type": "code",
   "execution_count": 48,
   "id": "2f83da16-55f1-4b46-8ef4-3bf198994177",
   "metadata": {},
   "outputs": [],
   "source": [
    "includeInds = np.full(len(addIDs), False, dtype = bool)\n",
    "includeInds[0:numAdd] = True\n",
    "np.random.shuffle(includeInds)"
   ]
  },
  {
   "cell_type": "code",
   "execution_count": 49,
   "id": "ed85c74f-d195-4d8e-ba9e-aa96afc6ece2",
   "metadata": {},
   "outputs": [
    {
     "data": {
      "text/plain": [
       "0.49999998109078414"
      ]
     },
     "execution_count": 49,
     "metadata": {},
     "output_type": "execute_result"
    }
   ],
   "source": [
    "len(np.sort(np.append(addIDs[includeInds], storedID))) / len(galaID)"
   ]
  },
  {
   "cell_type": "code",
   "execution_count": 50,
   "id": "7906e885-7fff-4d46-ace7-141deafae511",
   "metadata": {},
   "outputs": [],
   "source": [
    "valIDFile = stellarDir + 'InjectionData/80_Overlap_ID_'+str(seed)+'.fits'\n",
    "my_table = Table()\n",
    "my_table['ID'] = np.sort(np.append(addIDs[includeInds], storedID))\n",
    "my_table.write(valIDFile, overwrite = True)"
   ]
  },
  {
   "cell_type": "code",
   "execution_count": 5,
   "id": "05cb7ef7-c28c-426f-98ff-eb409c446e3e",
   "metadata": {},
   "outputs": [],
   "source": [
    "# # Get Stars: This has already been done\n",
    "# getMatStars(path, mu, res, matBalrStarFile, detBalrStarFile, pixFile, matStarFile, gCut, classCutoff, cutID = True, valIDFile = valIDFile)\n",
    "# getDetStarPositions(res, detBalrStarFile, pixFile, detStarAllPosFile, cutID = True, valIDFile = valIDFile)\n",
    "\n",
    "# # Get Galaxies: This has already been done\n",
    "# getMatGalas(path, mu, res, deepFiles, matBalrGalaFile, detBalrGalaFile, pixFile, matGalaFile, gCut, classCutoff, cutID = True, valIDFile = valIDFile)\n",
    "# getDetGalaPositions(res, deepFiles, detBalrGalaFile, pixFile, detGalaAllPosFile, cutID = True, valIDFile = valIDFile)"
   ]
  },
  {
   "cell_type": "code",
   "execution_count": 9,
   "id": "627af87f-889c-4ba7-9814-027a20c0c746",
   "metadata": {},
   "outputs": [],
   "source": [
    "# Start and end inds to hopefully guarantee no crashing occurs\n",
    "startInds = 2 * np.arange(50)\n",
    "endInds = (2 * np.arange(50)) + 1"
   ]
  },
  {
   "cell_type": "code",
   "execution_count": 7,
   "id": "da820149-b38f-47fd-80cf-f3a6fd9337f4",
   "metadata": {},
   "outputs": [],
   "source": [
    "# # Star classification: This has already been done\n",
    "# singleCorrectionTrain(matStarFile, condFiles, pixFile, magBins, starTrainFiles, starProbFiles, starExtrFiles, numBins, res, True, classCutoff, binNum, cutOffPercent, doFullSky = False)\n",
    "\n",
    "# fullSkyBool = [True, True, True]\n",
    "# for i in range(len(starTrainFiles)):\n",
    "#     if loadtxt(starTrainFiles[i][0:-5] + '_Indices.csv', delimiter=',').astype(int).size == 0:\n",
    "#         fullSkyBool[i] = False\n",
    "\n",
    "# for i in range(3):\n",
    "#     if fullSkyBool[i]:\n",
    "#         for j in range(50):\n",
    "#             fullSky(pixFile, condFiles, np.array([starTrainFiles[i]]), np.array([starProbFiles[i]]), np.array([starExtrFiles[i]]), res, numBins, startInd = startInds[j], endInd = endInds[j])\n",
    "#     else:\n",
    "#         aveAcc = loadtxt(starTrainFiles[i][0:-5] + '_Ave_Acc.csv', delimiter=',')\n",
    "#         aveAcc = 1 * aveAcc\n",
    "\n",
    "#         prob_table = Table()\n",
    "#         prob_table['SIGNAL'] = aveAcc * np.ones(len(validPix))\n",
    "#         prob_table.write(starProbFiles[i], overwrite = True) \n",
    "\n",
    "#         ext_table = Table()\n",
    "#         ext_table['EXTRAPOLATIONS'] = np.zeros(len(validPix))\n",
    "#         ext_table.write(starExtrFiles[i], overwrite = True)"
   ]
  },
  {
   "cell_type": "code",
   "execution_count": 8,
   "id": "0b8c9ac8-4893-4683-af07-b85fa9974efb",
   "metadata": {},
   "outputs": [],
   "source": [
    "# # Galaxy classification\n",
    "# singleCorrectionTrain(matGalaFile, condFiles, pixFile, magBins, galaTrainFiles, galaProbFiles, galaExtrFiles, numBins, res, False, classCutoff, binNum, cutOffPercent, doFullSky = False)\n",
    "\n",
    "# fullSkyBool = [True, True, True]\n",
    "# for i in range(len(galaTrainFiles)):\n",
    "#     if loadtxt(galaTrainFiles[i][0:-5] + '_Indices.csv', delimiter=',').astype(int).size == 0:\n",
    "#         fullSkyBool[i] = False\n",
    "\n",
    "# for i in range(3):\n",
    "#     print(i)\n",
    "#     if fullSkyBool[i]:\n",
    "#         for j in range(50):\n",
    "#             fullSky(pixFile, condFiles, np.array([galaTrainFiles[i]]), np.array([galaProbFiles[i]]), np.array([galaExtrFiles[i]]), res, numBins, startInd = startInds[j], endInd = endInds[j])\n",
    "#     else:\n",
    "#         aveAcc = loadtxt(galaTrainFiles[i][0:-5] + '_Ave_Acc.csv', delimiter=',')\n",
    "#         aveAcc = 1 * aveAcc\n",
    "\n",
    "#         prob_table = Table()\n",
    "#         prob_table['SIGNAL'] = aveAcc * np.ones(len(validPix))\n",
    "#         prob_table.write(galaProbFiles[i], overwrite = True) \n",
    "\n",
    "#         ext_table = Table()\n",
    "#         ext_table['EXTRAPOLATIONS'] = np.zeros(len(validPix))\n",
    "#         ext_table.write(galaExtrFiles[i], overwrite = True)"
   ]
  },
  {
   "cell_type": "code",
   "execution_count": 7,
   "id": "70234b35-16cf-4457-a1e7-657fcd1b5cbd",
   "metadata": {},
   "outputs": [
    {
     "ename": "KeyboardInterrupt",
     "evalue": "",
     "output_type": "error",
     "traceback": [
      "\u001b[0;31m---------------------------------------------------------------------------\u001b[0m",
      "\u001b[0;31mKeyboardInterrupt\u001b[0m                         Traceback (most recent call last)",
      "Input \u001b[0;32mIn [7]\u001b[0m, in \u001b[0;36m<cell line: 2>\u001b[0;34m()\u001b[0m\n\u001b[1;32m      1\u001b[0m \u001b[38;5;66;03m# Star det as star\u001b[39;00m\n\u001b[0;32m----> 2\u001b[0m \u001b[43msingleCorrectionTrainDet\u001b[49m\u001b[43m(\u001b[49m\u001b[43mdetStarAllPosFile\u001b[49m\u001b[43m,\u001b[49m\u001b[43m \u001b[49m\u001b[43mmatStarFile\u001b[49m\u001b[43m,\u001b[49m\u001b[43m \u001b[49m\u001b[43mcondFiles\u001b[49m\u001b[43m,\u001b[49m\u001b[43m \u001b[49m\u001b[43mpixFile\u001b[49m\u001b[43m,\u001b[49m\u001b[43m \u001b[49m\u001b[43mmagBins\u001b[49m\u001b[43m,\u001b[49m\u001b[43m \u001b[49m\u001b[43mstarDetAsStarTrainFiles\u001b[49m\u001b[43m,\u001b[49m\u001b[43m \u001b[49m\u001b[43mstarDetAsStarProbFiles\u001b[49m\u001b[43m,\u001b[49m\u001b[43m \u001b[49m\u001b[43mstarDetAsStarExtrFiles\u001b[49m\u001b[43m,\u001b[49m\u001b[43m \u001b[49m\u001b[43mnumBins\u001b[49m\u001b[43m,\u001b[49m\u001b[43m \u001b[49m\u001b[43mres\u001b[49m\u001b[43m,\u001b[49m\u001b[43m \u001b[49m\u001b[38;5;28;43;01mTrue\u001b[39;49;00m\u001b[43m,\u001b[49m\u001b[43m \u001b[49m\u001b[43mclassCutoff\u001b[49m\u001b[43m,\u001b[49m\u001b[43m \u001b[49m\u001b[43mbinNum\u001b[49m\u001b[43m,\u001b[49m\u001b[43m \u001b[49m\u001b[43mcutOffPercent\u001b[49m\u001b[43m,\u001b[49m\u001b[43m \u001b[49m\u001b[43mdoFullSky\u001b[49m\u001b[43m \u001b[49m\u001b[38;5;241;43m=\u001b[39;49m\u001b[43m \u001b[49m\u001b[38;5;28;43;01mFalse\u001b[39;49;00m\u001b[43m)\u001b[49m\n\u001b[1;32m      4\u001b[0m fullSkyBool \u001b[38;5;241m=\u001b[39m [\u001b[38;5;28;01mTrue\u001b[39;00m, \u001b[38;5;28;01mTrue\u001b[39;00m, \u001b[38;5;28;01mTrue\u001b[39;00m]\n\u001b[1;32m      5\u001b[0m \u001b[38;5;28;01mfor\u001b[39;00m i \u001b[38;5;129;01min\u001b[39;00m \u001b[38;5;28mrange\u001b[39m(\u001b[38;5;28mlen\u001b[39m(starDetAsStarTrainFiles)):\n",
      "File \u001b[0;32m~/software/StarWeights/FinalPipeline/Detection.py:87\u001b[0m, in \u001b[0;36msingleCorrectionTrainDet\u001b[0;34m(allPosFile, detObjectFile, condFiles, pixFile, magBins, trainDataFiles, fullSkyProbFiles, extrFiles, numBins, res, isStar, classCut, binNum, cutOffPercent, doFullSky)\u001b[0m\n\u001b[1;32m     85\u001b[0m \u001b[38;5;66;03m# This loops over every condition file\u001b[39;00m\n\u001b[1;32m     86\u001b[0m \u001b[38;5;28;01mfor\u001b[39;00m condFile \u001b[38;5;129;01min\u001b[39;00m condFiles:\n\u001b[0;32m---> 87\u001b[0m     condData \u001b[38;5;241m=\u001b[39m \u001b[43mfitsio\u001b[49m\u001b[38;5;241;43m.\u001b[39;49m\u001b[43mread\u001b[49m\u001b[43m(\u001b[49m\u001b[43mcondFile\u001b[49m\u001b[43m)\u001b[49m \u001b[38;5;66;03m# This reads in the data\u001b[39;00m\n\u001b[1;32m     88\u001b[0m     condSigExt \u001b[38;5;241m=\u001b[39m np\u001b[38;5;241m.\u001b[39mfull(\u001b[38;5;241m12\u001b[39m\u001b[38;5;241m*\u001b[39m(res\u001b[38;5;241m*\u001b[39m\u001b[38;5;241m*\u001b[39m\u001b[38;5;241m2\u001b[39m), \u001b[38;5;241m-\u001b[39m\u001b[38;5;241m1.6375e+30\u001b[39m) \u001b[38;5;66;03m# Gives a default value\u001b[39;00m\n\u001b[1;32m     89\u001b[0m     condSigExt[validPix] \u001b[38;5;241m=\u001b[39m condData[\u001b[38;5;124m'\u001b[39m\u001b[38;5;124mSIGNAL\u001b[39m\u001b[38;5;124m'\u001b[39m] \u001b[38;5;66;03m# Changes all valid pixels to their corresponding signals\u001b[39;00m\n",
      "File \u001b[0;32m~/miniconda3/envs/blend/lib/python3.9/site-packages/fitsio/fitslib.py:151\u001b[0m, in \u001b[0;36mread\u001b[0;34m(filename, ext, extver, columns, rows, header, case_sensitive, upper, lower, vstorage, verbose, trim_strings, **keys)\u001b[0m\n\u001b[1;32m    147\u001b[0m         \u001b[38;5;28;01mraise\u001b[39;00m \u001b[38;5;167;01mIOError\u001b[39;00m(\u001b[38;5;124m\"\u001b[39m\u001b[38;5;124mNo extensions have data\u001b[39m\u001b[38;5;124m\"\u001b[39m)\n\u001b[1;32m    149\u001b[0m item \u001b[38;5;241m=\u001b[39m _make_item(ext, extver\u001b[38;5;241m=\u001b[39mextver)\n\u001b[0;32m--> 151\u001b[0m data \u001b[38;5;241m=\u001b[39m \u001b[43mfits\u001b[49m\u001b[43m[\u001b[49m\u001b[43mitem\u001b[49m\u001b[43m]\u001b[49m\u001b[38;5;241;43m.\u001b[39;49m\u001b[43mread\u001b[49m\u001b[43m(\u001b[49m\u001b[38;5;241;43m*\u001b[39;49m\u001b[38;5;241;43m*\u001b[39;49m\u001b[43mread_kwargs\u001b[49m\u001b[43m)\u001b[49m\n\u001b[1;32m    152\u001b[0m \u001b[38;5;28;01mif\u001b[39;00m header:\n\u001b[1;32m    153\u001b[0m     h \u001b[38;5;241m=\u001b[39m fits[item]\u001b[38;5;241m.\u001b[39mread_header()\n",
      "File \u001b[0;32m~/miniconda3/envs/blend/lib/python3.9/site-packages/fitsio/hdu/table.py:717\u001b[0m, in \u001b[0;36mTableHDU.read\u001b[0;34m(self, columns, rows, vstorage, upper, lower, trim_strings, **keys)\u001b[0m\n\u001b[1;32m    713\u001b[0m     data \u001b[38;5;241m=\u001b[39m \u001b[38;5;28mself\u001b[39m\u001b[38;5;241m.\u001b[39mread_rows(\n\u001b[1;32m    714\u001b[0m         rows, vstorage\u001b[38;5;241m=\u001b[39mvstorage,\n\u001b[1;32m    715\u001b[0m         upper\u001b[38;5;241m=\u001b[39mupper, lower\u001b[38;5;241m=\u001b[39mlower, trim_strings\u001b[38;5;241m=\u001b[39mtrim_strings)\n\u001b[1;32m    716\u001b[0m \u001b[38;5;28;01melse\u001b[39;00m:\n\u001b[0;32m--> 717\u001b[0m     data \u001b[38;5;241m=\u001b[39m \u001b[38;5;28;43mself\u001b[39;49m\u001b[38;5;241;43m.\u001b[39;49m\u001b[43m_read_all\u001b[49m\u001b[43m(\u001b[49m\n\u001b[1;32m    718\u001b[0m \u001b[43m        \u001b[49m\u001b[43mvstorage\u001b[49m\u001b[38;5;241;43m=\u001b[39;49m\u001b[43mvstorage\u001b[49m\u001b[43m,\u001b[49m\n\u001b[1;32m    719\u001b[0m \u001b[43m        \u001b[49m\u001b[43mupper\u001b[49m\u001b[38;5;241;43m=\u001b[39;49m\u001b[43mupper\u001b[49m\u001b[43m,\u001b[49m\u001b[43m \u001b[49m\u001b[43mlower\u001b[49m\u001b[38;5;241;43m=\u001b[39;49m\u001b[43mlower\u001b[49m\u001b[43m,\u001b[49m\u001b[43m \u001b[49m\u001b[43mtrim_strings\u001b[49m\u001b[38;5;241;43m=\u001b[39;49m\u001b[43mtrim_strings\u001b[49m\u001b[43m)\u001b[49m\n\u001b[1;32m    721\u001b[0m \u001b[38;5;28;01mreturn\u001b[39;00m data\n",
      "File \u001b[0;32m~/miniconda3/envs/blend/lib/python3.9/site-packages/fitsio/hdu/table.py:785\u001b[0m, in \u001b[0;36mTableHDU._read_all\u001b[0;34m(self, vstorage, upper, lower, trim_strings, colnums, **keys)\u001b[0m\n\u001b[1;32m    782\u001b[0m nrows \u001b[38;5;241m=\u001b[39m \u001b[38;5;28mself\u001b[39m\u001b[38;5;241m.\u001b[39m_info[\u001b[38;5;124m'\u001b[39m\u001b[38;5;124mnrows\u001b[39m\u001b[38;5;124m'\u001b[39m]\n\u001b[1;32m    783\u001b[0m array \u001b[38;5;241m=\u001b[39m np\u001b[38;5;241m.\u001b[39mzeros(nrows, dtype\u001b[38;5;241m=\u001b[39mdtype)\n\u001b[0;32m--> 785\u001b[0m \u001b[38;5;28;43mself\u001b[39;49m\u001b[38;5;241;43m.\u001b[39;49m\u001b[43m_FITS\u001b[49m\u001b[38;5;241;43m.\u001b[39;49m\u001b[43mread_as_rec\u001b[49m\u001b[43m(\u001b[49m\u001b[38;5;28;43mself\u001b[39;49m\u001b[38;5;241;43m.\u001b[39;49m\u001b[43m_ext\u001b[49m\u001b[38;5;241;43m+\u001b[39;49m\u001b[38;5;241;43m1\u001b[39;49m\u001b[43m,\u001b[49m\u001b[43m \u001b[49m\u001b[38;5;241;43m1\u001b[39;49m\u001b[43m,\u001b[49m\u001b[43m \u001b[49m\u001b[43mnrows\u001b[49m\u001b[43m,\u001b[49m\u001b[43m \u001b[49m\u001b[43marray\u001b[49m\u001b[43m)\u001b[49m\n\u001b[1;32m    787\u001b[0m array \u001b[38;5;241m=\u001b[39m \u001b[38;5;28mself\u001b[39m\u001b[38;5;241m.\u001b[39m_maybe_decode_fits_ascii_strings_to_unicode_py3(array)\n\u001b[1;32m    789\u001b[0m \u001b[38;5;28;01mfor\u001b[39;00m colnum, name \u001b[38;5;129;01min\u001b[39;00m \u001b[38;5;28menumerate\u001b[39m(array\u001b[38;5;241m.\u001b[39mdtype\u001b[38;5;241m.\u001b[39mnames):\n",
      "\u001b[0;31mKeyboardInterrupt\u001b[0m: "
     ]
    }
   ],
   "source": [
    "# Star det as star\n",
    "singleCorrectionTrainDet(detStarAllPosFile, matStarFile, condFiles, pixFile, magBins, starDetAsStarTrainFiles, starDetAsStarProbFiles, starDetAsStarExtrFiles, numBins, res, True, classCutoff, binNum, cutOffPercent, doFullSky = False)\n",
    "\n",
    "fullSkyBool = [True, True, True]\n",
    "for i in range(len(starDetAsStarTrainFiles)):\n",
    "    if loadtxt(starDetAsStarTrainFiles[i][0:-5] + '_Indices.csv', delimiter=',').astype(int).size == 0:\n",
    "        fullSkyBool[i] = False\n",
    "\n",
    "for i in range(3):\n",
    "    if fullSkyBool[i]:\n",
    "        for j in range(50):\n",
    "            fullSkyDet(pixFile, condFiles, np.array([starDetAsStarTrainFiles[i]]), np.array([starDetAsStarProbFiles[i]]), np.array([starDetAsStarExtrFiles[i]]), res, numBins, startInd = startInds[j], endInd = endInds[j])\n",
    "    else:\n",
    "        aveDet = loadtxt(starDetAsStarTrainFiles[i][0:-5] + '_Ave_Det.csv', delimiter=',')\n",
    "        aveDet = 1 * aveDet\n",
    "\n",
    "        prob_table = Table()\n",
    "        prob_table['SIGNAL'] = aveDet * np.ones(len(validPix))\n",
    "        prob_table.write(starDetAsStarProbFiles[i], overwrite = True) \n",
    "\n",
    "        ext_table = Table()\n",
    "        ext_table['EXTRAPOLATIONS'] = np.zeros(len(validPix))\n",
    "        ext_table.write(starDetAsStarExtrFiles[i], overwrite = True)"
   ]
  },
  {
   "cell_type": "code",
   "execution_count": 10,
   "id": "e616d8d8-81b5-448b-8b11-1907b29af4c6",
   "metadata": {},
   "outputs": [
    {
     "name": "stdout",
     "output_type": "stream",
     "text": [
      "0.0012847313330217078\n",
      "0.0012847313330217078\n"
     ]
    },
    {
     "ename": "KeyboardInterrupt",
     "evalue": "",
     "output_type": "error",
     "traceback": [
      "\u001b[0;31m---------------------------------------------------------------------------\u001b[0m",
      "\u001b[0;31mKeyboardInterrupt\u001b[0m                         Traceback (most recent call last)",
      "Input \u001b[0;32mIn [10]\u001b[0m, in \u001b[0;36m<cell line: 9>\u001b[0;34m()\u001b[0m\n\u001b[1;32m     10\u001b[0m \u001b[38;5;28;01mif\u001b[39;00m fullSkyBool[i]:\n\u001b[1;32m     11\u001b[0m     \u001b[38;5;28;01mfor\u001b[39;00m j \u001b[38;5;129;01min\u001b[39;00m \u001b[38;5;28mrange\u001b[39m(\u001b[38;5;241m50\u001b[39m):\n\u001b[0;32m---> 12\u001b[0m         \u001b[43mfullSkyDet\u001b[49m\u001b[43m(\u001b[49m\u001b[43mpixFile\u001b[49m\u001b[43m,\u001b[49m\u001b[43m \u001b[49m\u001b[43mcondFiles\u001b[49m\u001b[43m,\u001b[49m\u001b[43m \u001b[49m\u001b[43mnp\u001b[49m\u001b[38;5;241;43m.\u001b[39;49m\u001b[43marray\u001b[49m\u001b[43m(\u001b[49m\u001b[43m[\u001b[49m\u001b[43mgalaDetAsStarTrainFiles\u001b[49m\u001b[43m[\u001b[49m\u001b[43mi\u001b[49m\u001b[43m]\u001b[49m\u001b[43m]\u001b[49m\u001b[43m)\u001b[49m\u001b[43m,\u001b[49m\u001b[43m \u001b[49m\u001b[43mnp\u001b[49m\u001b[38;5;241;43m.\u001b[39;49m\u001b[43marray\u001b[49m\u001b[43m(\u001b[49m\u001b[43m[\u001b[49m\u001b[43mgalaDetAsStarProbFiles\u001b[49m\u001b[43m[\u001b[49m\u001b[43mi\u001b[49m\u001b[43m]\u001b[49m\u001b[43m]\u001b[49m\u001b[43m)\u001b[49m\u001b[43m,\u001b[49m\u001b[43m \u001b[49m\u001b[43mnp\u001b[49m\u001b[38;5;241;43m.\u001b[39;49m\u001b[43marray\u001b[49m\u001b[43m(\u001b[49m\u001b[43m[\u001b[49m\u001b[43mgalaDetAsStarExtrFiles\u001b[49m\u001b[43m[\u001b[49m\u001b[43mi\u001b[49m\u001b[43m]\u001b[49m\u001b[43m]\u001b[49m\u001b[43m)\u001b[49m\u001b[43m,\u001b[49m\u001b[43m \u001b[49m\u001b[43mres\u001b[49m\u001b[43m,\u001b[49m\u001b[43m \u001b[49m\u001b[43mnumBins\u001b[49m\u001b[43m,\u001b[49m\u001b[43m \u001b[49m\u001b[43mstartInd\u001b[49m\u001b[43m \u001b[49m\u001b[38;5;241;43m=\u001b[39;49m\u001b[43m \u001b[49m\u001b[43mstartInds\u001b[49m\u001b[43m[\u001b[49m\u001b[43mj\u001b[49m\u001b[43m]\u001b[49m\u001b[43m,\u001b[49m\u001b[43m \u001b[49m\u001b[43mendInd\u001b[49m\u001b[43m \u001b[49m\u001b[38;5;241;43m=\u001b[39;49m\u001b[43m \u001b[49m\u001b[43mendInds\u001b[49m\u001b[43m[\u001b[49m\u001b[43mj\u001b[49m\u001b[43m]\u001b[49m\u001b[43m)\u001b[49m\n\u001b[1;32m     13\u001b[0m \u001b[38;5;28;01melse\u001b[39;00m:\n\u001b[1;32m     14\u001b[0m     aveDet \u001b[38;5;241m=\u001b[39m loadtxt(galaDetAsStarTrainFiles[i][\u001b[38;5;241m0\u001b[39m:\u001b[38;5;241m-\u001b[39m\u001b[38;5;241m5\u001b[39m] \u001b[38;5;241m+\u001b[39m \u001b[38;5;124m'\u001b[39m\u001b[38;5;124m_Ave_Det.csv\u001b[39m\u001b[38;5;124m'\u001b[39m, delimiter\u001b[38;5;241m=\u001b[39m\u001b[38;5;124m'\u001b[39m\u001b[38;5;124m,\u001b[39m\u001b[38;5;124m'\u001b[39m)\n",
      "File \u001b[0;32m~/software/StarWeights/FinalPipeline/Detection.py:278\u001b[0m, in \u001b[0;36mfullSkyDet\u001b[0;34m(pixFile, condFiles, trainDataFiles, fullSkyProbFiles, extrFiles, res, numBins, startInd, endInd, showProgress)\u001b[0m\n\u001b[1;32m    275\u001b[0m     sectProb \u001b[38;5;241m=\u001b[39m sectProb \u001b[38;5;241m*\u001b[39m corr\n\u001b[1;32m    277\u001b[0m     \u001b[38;5;66;03m# For this index, expands out the extrapolation map.\u001b[39;00m\n\u001b[0;32m--> 278\u001b[0m     \u001b[43mextrMap\u001b[49m\u001b[43m[\u001b[49m\u001b[43mk\u001b[49m\u001b[43m]\u001b[49m\u001b[38;5;241;43m.\u001b[39;49m\u001b[43mextend\u001b[49m\u001b[43m(\u001b[49m\u001b[43mextrapolation\u001b[49m\u001b[43m)\u001b[49m\n\u001b[1;32m    280\u001b[0m \u001b[38;5;66;03m# Stores relative probability.\u001b[39;00m\n\u001b[1;32m    281\u001b[0m probMap\u001b[38;5;241m.\u001b[39mextend(sectProb)\n",
      "\u001b[0;31mKeyboardInterrupt\u001b[0m: "
     ]
    }
   ],
   "source": [
    "# Gala det as star\n",
    "# singleCorrectionTrainDet(detGalaAllPosFile, matGalaFile, condFiles, pixFile, magBins, galaDetAsStarTrainFiles, galaDetAsStarProbFiles, galaDetAsStarExtrFiles, numBins, res, True, classCutoff, binNum, cutOffPercent, doFullSky = False)\n",
    "\n",
    "fullSkyBool = [True, True, True]\n",
    "for i in range(len(galaDetAsStarTrainFiles)):\n",
    "    if loadtxt(galaDetAsStarTrainFiles[i][0:-5] + '_Indices.csv', delimiter=',').astype(int).size == 0:\n",
    "        fullSkyBool[i] = False\n",
    "\n",
    "for i in range(3):\n",
    "    if fullSkyBool[i]:\n",
    "        for j in range(50):\n",
    "            fullSkyDet(pixFile, condFiles, np.array([galaDetAsStarTrainFiles[i]]), np.array([galaDetAsStarProbFiles[i]]), np.array([galaDetAsStarExtrFiles[i]]), res, numBins, startInd = startInds[j], endInd = endInds[j])\n",
    "    else:\n",
    "        aveDet = loadtxt(galaDetAsStarTrainFiles[i][0:-5] + '_Ave_Det.csv', delimiter=',')\n",
    "        aveDet = 1 * aveDet\n",
    "\n",
    "        prob_table = Table()\n",
    "        prob_table['SIGNAL'] = aveDet * np.ones(len(validPix))\n",
    "        prob_table.write(galaDetAsStarProbFiles[i], overwrite = True) \n",
    "\n",
    "        ext_table = Table()\n",
    "        ext_table['EXTRAPOLATIONS'] = np.zeros(len(validPix))\n",
    "        ext_table.write(galaDetAsStarExtrFiles[i], overwrite = True)"
   ]
  },
  {
   "cell_type": "code",
   "execution_count": null,
   "id": "85f98e1a-129c-4449-9b1c-3b58f91cabd9",
   "metadata": {},
   "outputs": [],
   "source": [
    "# Calibration steps\n",
    "def findMatches(angleCutoff, RASource, DECSource, RAMatchCatalog, DECMatchCatalog, nthneighbor=1):\n",
    "    c = SkyCoord(ra=RASource*u.degree, dec=DECSource*u.degree)\n",
    "    catalog = SkyCoord(ra=RAMatchCatalog*u.degree, dec=DECMatchCatalog*u.degree)\n",
    "    idx, d2d, d3d = c.match_to_catalog_sky(catalog, nthneighbor=nthneighbor)\n",
    "    matches = d2d < angleCutoff\n",
    "    return matches, d2d\n",
    "\n",
    "\n",
    "deepRA = np.array([])\n",
    "deepDEC = np.array([])\n",
    "deepClass = np.array([])\n",
    "deepFlag = np.array([])\n",
    "deepFlagNir = np.array([])\n",
    "\n",
    "for deepFile in deepFiles:\n",
    "    deepData = fitsio.read(deepFile, columns = deepCols)\n",
    "\n",
    "    deepRA = np.append(deepRA, deepData['RA'])\n",
    "    deepDEC = np.append(deepDEC, deepData['DEC'])\n",
    "    deepClass = np.append(deepClass, deepData['KNN_CLASS'])\n",
    "    deepFlag = np.append(deepFlag, deepData['MASK_FLAGS'])\n",
    "    deepFlagNir = np.append(deepFlagNir, deepData['MASK_FLAGS_NIR'])\n",
    "\n",
    "deepFlagCuts = np.where((deepFlag == 0) &\n",
    "                        (deepFlagNir == 0) &\n",
    "                        (deepRA < 120) &\n",
    "                        (deepClass > 0) &\n",
    "                        (deepClass <= 3))[0]\n",
    "\n",
    "deepRA = deepRA[deepFlagCuts]\n",
    "deepDEC = deepDEC[deepFlagCuts]\n",
    "deepClass = deepClass[deepFlagCuts]\n",
    "\n",
    "if len(np.where(deepClass == 3)[0]) != 0:\n",
    "    print('WARNING: Objects with no class are present in this deep field selection. ' + str(len(np.where(deepClass == 3)[0])) + ' object(s) out of ' + str(len(deepClass)) + ' have an ambiguous classification.')\n",
    "\n",
    "deepPix = np.unique(hp.ang2pix(res, deepRA, deepDEC, lonlat = True, nest = True))\n",
    "\n",
    "deepPixCheck = np.full(12*(res**2), False, dtype = bool)\n",
    "deepPixCheck[deepPix] = True\n",
    "\n",
    "starAdjustments = []\n",
    "galaAdjustments = []\n",
    "\n",
    "for i in np.arange(len(goldMoreInfoStarFiles)):\n",
    "    allStarData = fitsio.read(goldMoreInfoStarFiles[i])\n",
    "    allStarRA = allStarData['RA']\n",
    "    allStarDEC = allStarData['DEC']\n",
    "    allStarPIX = hp.ang2pix(res, allStarRA, allStarDEC, lonlat = True, nest = True)\n",
    "    allStarRA = allStarRA[np.where(deepPixCheck[allStarPIX])[0]]\n",
    "    allStarDEC = allStarDEC[np.where(deepPixCheck[allStarPIX])[0]]\n",
    "    print(len(allStarRA))\n",
    "\n",
    "    allGalaData = fitsio.read(goldMoreInfoGalaFiles[i])\n",
    "    allGalaRA = allGalaData['RA']\n",
    "    allGalaDEC = allGalaData['DEC']\n",
    "    allGalaPIX = hp.ang2pix(res, allGalaRA, allGalaDEC, lonlat = True, nest = True)\n",
    "    allGalaRA = allGalaRA[np.where(deepPixCheck[allGalaPIX])[0]]\n",
    "    allGalaDEC = allGalaDEC[np.where(deepPixCheck[allGalaPIX])[0]]\n",
    "    print(len(allGalaRA))\n",
    "    \n",
    "    deepStarMatches, _ = findMatches(0.5*u.arcsec, deepRA, deepDEC, allStarRA, allStarDEC)\n",
    "    deepGalaMatches, _ = findMatches(0.5*u.arcsec, deepRA, deepDEC, allGalaRA, allGalaDEC)\n",
    "\n",
    "    matchedDeepStarRA = deepRA[deepStarMatches]\n",
    "    matchedDeepStarDEC = deepDEC[deepStarMatches]\n",
    "    matchedDeepStarClass = deepClass[deepStarMatches]\n",
    "\n",
    "    matchedDeepGalaRA = deepRA[deepGalaMatches]\n",
    "    matchedDeepGalaDEC = deepDEC[deepGalaMatches]\n",
    "    matchedDeepGalaClass = deepClass[deepGalaMatches]\n",
    "    \n",
    "    TSPIX = hp.ang2pix(res, matchedDeepStarRA[np.where(matchedDeepStarClass == 2)[0]], matchedDeepStarDEC[np.where(matchedDeepStarClass == 2)[0]], lonlat = True, nest = True)\n",
    "    FSPIX = hp.ang2pix(res, matchedDeepStarRA[np.where(matchedDeepStarClass == 1)[0]], matchedDeepStarDEC[np.where(matchedDeepStarClass == 1)[0]], lonlat = True, nest = True)\n",
    "\n",
    "    TGPIX = hp.ang2pix(res, matchedDeepGalaRA[np.where(matchedDeepGalaClass == 1)[0]], matchedDeepGalaDEC[np.where(matchedDeepGalaClass == 1)[0]], lonlat = True, nest = True)\n",
    "    FGPIX = hp.ang2pix(res, matchedDeepGalaRA[np.where(matchedDeepGalaClass == 2)[0]], matchedDeepGalaDEC[np.where(matchedDeepGalaClass == 2)[0]], lonlat = True, nest = True)\n",
    "    \n",
    "    starCorrProb = np.clip(fitsio.read(starProbFiles[i])['SIGNAL'], 0, 1)\n",
    "    fullStarProb = np.full(12*(res**2), hp.UNSEEN)\n",
    "    fullStarProb[validPix] = starCorrProb\n",
    "\n",
    "    galaCorrProb = np.clip(fitsio.read(galaProbFiles[i])['SIGNAL'], 0, 1)\n",
    "    fullGalaProb = np.full(12*(res**2), hp.UNSEEN)\n",
    "    fullGalaProb[validPix] = galaCorrProb\n",
    "    \n",
    "    starAdjustments.append(len(TSPIX) / (np.sum(fullStarProb[TSPIX[np.where(pixCheck[TSPIX])[0]]]) + np.sum(fullStarProb[FGPIX[np.where(pixCheck[FGPIX])[0]]])))   \n",
    "    galaAdjustments.append(len(TGPIX) / (np.sum(fullGalaProb[TGPIX[np.where(pixCheck[TGPIX])[0]]]) + np.sum(fullGalaProb[FSPIX[np.where(pixCheck[FSPIX])[0]]])))\n",
    "    \n",
    "caliTable = Table()\n",
    "caliTable['STAR'] = starAdjustments\n",
    "caliTable['GALA'] = galaAdjustments\n",
    "caliTable.write(calibrationFile, overwrite = True)"
   ]
  }
 ],
 "metadata": {
  "kernelspec": {
   "display_name": "Python 3 (ipykernel)",
   "language": "python",
   "name": "python3"
  },
  "language_info": {
   "codemirror_mode": {
    "name": "ipython",
    "version": 3
   },
   "file_extension": ".py",
   "mimetype": "text/x-python",
   "name": "python",
   "nbconvert_exporter": "python",
   "pygments_lexer": "ipython3",
   "version": "3.9.12"
  }
 },
 "nbformat": 4,
 "nbformat_minor": 5
}
