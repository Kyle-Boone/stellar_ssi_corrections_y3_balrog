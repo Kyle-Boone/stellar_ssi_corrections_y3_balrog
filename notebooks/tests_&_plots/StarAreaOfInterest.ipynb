{
 "cells": [
  {
   "cell_type": "markdown",
   "id": "bd21c049-02d8-4f9e-9e8c-9f7ebe4f0b99",
   "metadata": {},
   "source": [
    "# Overview\n",
    "\n",
    "Similar to StarCount program. Difference will be in what metrics are saved. I have three areas of interest on the DES footprint, each of which is approximately a third of the total footprint. These are stored in healpix values at a resolution of 512 which must be upgraded to 4096 here. Within these areas of interest, I will simply store the average number of classified stars per pixel divided by the average on the test dataset after training has been completed. A test set will be picked before any training is performed such that its average number of detections per pixel matches with the overall area."
   ]
  },
  {
   "cell_type": "code",
   "execution_count": 1,
   "id": "776ae5b1-2c1e-48f9-82a4-e9331854d355",
   "metadata": {},
   "outputs": [],
   "source": [
    "import sys\n",
    "sys.path.insert(1, '/afs/hep.wisc.edu/home/kkboone/software/StarWeights/FinalPipeline')\n",
    "import fitsio\n",
    "import numpy as np\n",
    "import healpy as hp\n",
    "import scipy as sc\n",
    "import matplotlib.pyplot as plt\n",
    "import matplotlib.style\n",
    "import matplotlib\n",
    "from scipy import interpolate as inter\n",
    "from astropy.table import Table\n",
    "import StellarConfig as strConfig\n",
    "import Config\n",
    "# from matplotlib.path import Path Cut has already been applied\n",
    "matplotlib.style.use('des_dr1')"
   ]
  },
  {
   "cell_type": "code",
   "execution_count": 2,
   "id": "41efa86f-cfa2-4b7c-955a-0c919c810db2",
   "metadata": {},
   "outputs": [],
   "source": [
    "directory = '/hdfs/bechtol/balrog/y3/y3a2_survey_conditions_maps/Kyle_Stuff/MaximumLikelihood/FinalPipeline/Tests/Object_Counts/'"
   ]
  },
  {
   "cell_type": "markdown",
   "id": "3e3d0662-7ffb-4b64-bf31-7d7d89f5ff2d",
   "metadata": {},
   "source": [
    "### Areas of Interest"
   ]
  },
  {
   "cell_type": "code",
   "execution_count": 3,
   "id": "1e781e34-1963-421d-bbae-76aede418946",
   "metadata": {},
   "outputs": [],
   "source": [
    "numAreas = 3\n",
    "areaFile = directory + 'Three_Areas_Pixels.fits'\n",
    "areaData = fitsio.read(areaFile)\n",
    "areaPix = []\n",
    "for i in np.arange(numAreas):\n",
    "    areaPix.append(areaData[str(i)])"
   ]
  },
  {
   "cell_type": "markdown",
   "id": "bc65811e-cb7b-4244-8e1e-2fed3dffd5a9",
   "metadata": {},
   "source": [
    "### Change Resolution"
   ]
  },
  {
   "cell_type": "code",
   "execution_count": 4,
   "id": "e38eeeb6-15aa-4999-aef8-4bf9965fe8fa",
   "metadata": {},
   "outputs": [],
   "source": [
    "for i in np.arange(len(areaPix)):\n",
    "    area512 = areaPix[i]\n",
    "    fullArea512 = np.zeros(12*(512**2))\n",
    "    fullArea512[area512] = 1\n",
    "    fullArea4096 = hp.ud_grade(fullArea512, 4096, order_in = 'NESTED', order_out = 'NESTED')\n",
    "    areaPix[i] = np.where(fullArea4096 > 0.5)[0]"
   ]
  },
  {
   "cell_type": "markdown",
   "id": "889ea390-4947-4d9e-ba31-f9c94a8d0da6",
   "metadata": {},
   "source": [
    "### Actual Algorithm"
   ]
  },
  {
   "cell_type": "code",
   "execution_count": 5,
   "id": "2a3e6bb2-e52f-47e1-8e06-fee078e2a82d",
   "metadata": {},
   "outputs": [],
   "source": [
    "def mostSigInd(y):\n",
    "    maxSquaredDiff = 0\n",
    "    index = -1\n",
    "    \n",
    "    maxSingError = np.max(np.abs(y - 1))\n",
    "    \n",
    "    if maxSingError <= cutOffPercent:\n",
    "        return index, maxSingError\n",
    "    \n",
    "    for i in range(len(y)):\n",
    "        yi = y[i]\n",
    "        \n",
    "        diff = np.sum((yi - 1)**2)\n",
    "        \n",
    "        if diff > maxSquaredDiff:\n",
    "            maxSquaredDiff = diff\n",
    "            index = i\n",
    "            \n",
    "    return index, maxSingError"
   ]
  },
  {
   "cell_type": "code",
   "execution_count": 6,
   "id": "fec1fda8-cf6a-4457-9f8e-e2bb64ba022b",
   "metadata": {},
   "outputs": [],
   "source": [
    "cutOffPercent = .01\n",
    "res = 4096\n",
    "binNum = 10\n",
    "classCut = 1.5\n",
    "# path = strConfig.path Cut has already been applied\n",
    "# mu = strConfig.mu\n",
    "rMagCut = [23.9, 24.5]\n",
    "conditions = Config.conditions"
   ]
  },
  {
   "cell_type": "code",
   "execution_count": 7,
   "id": "bd5f1ad6-e906-43bb-aa5e-7443b632e6e1",
   "metadata": {},
   "outputs": [],
   "source": [
    "validPixFile = strConfig.detStarAllPosFile"
   ]
  },
  {
   "cell_type": "code",
   "execution_count": 8,
   "id": "d7188df1-e3bb-4a62-924b-8ea0d68f8581",
   "metadata": {},
   "outputs": [],
   "source": [
    "validPix = np.unique(fitsio.read(validPixFile)['PIXEL'])"
   ]
  },
  {
   "cell_type": "code",
   "execution_count": 9,
   "id": "4e411dea-fcbe-4751-ad4e-b4f1aec7b0b2",
   "metadata": {},
   "outputs": [],
   "source": [
    "for i in np.arange(len(areaPix)):\n",
    "    areaPix[i] = areaPix[i][np.isin(areaPix[i], validPix)]\n",
    "    \n",
    "allAreaPix = []\n",
    "for i in np.arange(len(areaPix)):\n",
    "    allAreaPix.extend(areaPix[i])\n",
    "allAreaPix = np.array(allAreaPix)"
   ]
  },
  {
   "cell_type": "code",
   "execution_count": 10,
   "id": "c8c27cc4-67fc-41b8-ba10-a8cb8250c417",
   "metadata": {},
   "outputs": [],
   "source": [
    "oldValidPixFile = '/hdfs/bechtol/balrog/y3/y3a2_survey_conditions_maps/Kyle_Stuff/MaximumLikelihood/BalrogTests/Test1/ValidPix.fits'"
   ]
  },
  {
   "cell_type": "code",
   "execution_count": 11,
   "id": "8b5d5e08-487b-4256-b23b-b43240fede46",
   "metadata": {},
   "outputs": [],
   "source": [
    "oldValidPix = fitsio.read(oldValidPixFile)['PIXEL']"
   ]
  },
  {
   "cell_type": "code",
   "execution_count": 12,
   "id": "7ab5691a-0b91-493e-962f-67e45266b8a5",
   "metadata": {},
   "outputs": [],
   "source": [
    "# Already has color and quality cuts applied.\n",
    "matStarFile = strConfig.matStarFile"
   ]
  },
  {
   "cell_type": "code",
   "execution_count": 13,
   "id": "5d532cf1-2144-4f9a-95bf-3ea2d5a577ea",
   "metadata": {},
   "outputs": [],
   "source": [
    "matStarData = fitsio.read(matStarFile)"
   ]
  },
  {
   "cell_type": "code",
   "execution_count": 14,
   "id": "cb2b61ae-74eb-48ae-a711-b4ec27db2827",
   "metadata": {},
   "outputs": [],
   "source": [
    "matStarRA = matStarData['RA']\n",
    "matStarDEC = matStarData['DEC']\n",
    "# matStarGMAG = matStarData['GMAG'] Unnecessary, cuts are based on RMAG\n",
    "matStarRMAG = matStarData['RMAG']\n",
    "matStarCLASS = matStarData['CLASS']\n",
    "\n",
    "# Naming conventions changing to match original file\n",
    "matPix = hp.ang2pix(res, matStarRA, matStarDEC, nest = True, lonlat = True)\n",
    "\n",
    "pixCut = np.isin(matPix, validPix)\n",
    "matPix = matPix[pixCut]\n",
    "matRmag = matStarRMAG[pixCut]\n",
    "matClass = matStarCLASS[pixCut]\n",
    "\n",
    "magCut = np.where((matRmag <= rMagCut[1]) & (matRmag > rMagCut[0]))[0]\n",
    "matPix = matPix[magCut]\n",
    "matClass = matClass[magCut]\n",
    "\n",
    "classCuts = np.where((matClass >= 0) & (matClass <= classCut))[0]\n",
    "matPix = matPix[classCuts]\n",
    "\n",
    "origDetPix = np.copy(matPix)\n",
    "origDetPix = np.sort(origDetPix)"
   ]
  },
  {
   "cell_type": "code",
   "execution_count": 15,
   "id": "7df92c9e-eb85-42f1-ba7c-852bbd9e1148",
   "metadata": {},
   "outputs": [],
   "source": [
    "origAllDetPix, origAllDetPixCounts = np.unique(np.append(validPix, origDetPix), return_counts = True)\n",
    "origAllDetPixCounts = origAllDetPixCounts - 1"
   ]
  },
  {
   "cell_type": "markdown",
   "id": "50af3a7a-0bf8-4c7b-abff-6e310d840f54",
   "metadata": {},
   "source": [
    "# Note on Next Blocks:\n",
    "\n",
    "These next blocks are all just for testing, no crucial stuff happens here. Comment this out to improve runtime since it does take ~8 minutes to run."
   ]
  },
  {
   "cell_type": "code",
   "execution_count": 16,
   "id": "9cb2fa73-d918-4deb-ae8f-b34788665a0c",
   "metadata": {},
   "outputs": [],
   "source": [
    "# Test for multi sampling\n",
    "samplePer = 50\n",
    "\n",
    "excessPers = []\n",
    "\n",
    "ave = np.average(origAllDetPixCounts)\n",
    "pixOfInterest = np.isin(origAllDetPix, areaPix[0])\n",
    "detOfInterest = origAllDetPixCounts[pixOfInterest]\n",
    "\n",
    "includeInds = np.full(len(detOfInterest), False, dtype = bool)\n",
    "includeInds[0:int((float(samplePer)*len(includeInds)) / 100)] = True\n",
    "\n",
    "for _ in range(10000):\n",
    "    np.random.shuffle(includeInds)\n",
    "    excessPers.append(np.average(detOfInterest[includeInds]) / ave)"
   ]
  },
  {
   "cell_type": "code",
   "execution_count": 17,
   "id": "a35086c9-5f6c-4c7c-8f6b-88eb3edb9b88",
   "metadata": {},
   "outputs": [
    {
     "name": "stdout",
     "output_type": "stream",
     "text": [
      "1.1652685170059502\n",
      "0.007206311668846851\n"
     ]
    }
   ],
   "source": [
    "print(np.average(excessPers))\n",
    "print(np.std(excessPers))"
   ]
  },
  {
   "cell_type": "code",
   "execution_count": 18,
   "id": "a4813187-8798-4f01-af0f-ddc263169a27",
   "metadata": {},
   "outputs": [
    {
     "data": {
      "image/png": "[encoded data removed]",
      "text/plain": [
       "<Figure size 960x720 with 1 Axes>"
      ]
     },
     "metadata": {},
     "output_type": "display_data"
    }
   ],
   "source": [
    "plt.figure(dpi = 120)\n",
    "plt.hist(excessPers, bins = np.linspace(0.9, 1.2, 30))\n",
    "plt.show()"
   ]
  },
  {
   "cell_type": "code",
   "execution_count": 19,
   "id": "d4e686d2-1fda-426d-8b28-8d871e871d44",
   "metadata": {},
   "outputs": [],
   "source": [
    "includeInds = np.full(len(areaPix[0]), False, dtype = bool)\n",
    "includeInds[0:int((float(samplePer)*len(includeInds)) / 100)] = True\n",
    "\n",
    "np.random.shuffle(includeInds)\n",
    "cropDetOfInterest = detOfInterest[includeInds]\n",
    "\n",
    "areaAve = np.average(detOfInterest)\n",
    "cropAve = np.average(cropDetOfInterest)\n",
    "\n",
    "while (np.abs(areaAve - cropAve) / areaAve) > 0.001:\n",
    "    np.random.shuffle(includeInds)\n",
    "    cropDetOfInterest = detOfInterest[includeInds]\n",
    "    cropAve = np.average(cropDetOfInterest)"
   ]
  },
  {
   "cell_type": "code",
   "execution_count": 20,
   "id": "70f6b7bd-b9fd-4219-bc60-8f44ec3d3d11",
   "metadata": {},
   "outputs": [],
   "source": [
    "newDetOfInterest = np.hstack((cropDetOfInterest,) * 2)"
   ]
  },
  {
   "cell_type": "code",
   "execution_count": 21,
   "id": "a163d23a-8811-4c5a-b3d7-a279751a597a",
   "metadata": {},
   "outputs": [],
   "source": [
    "bootExcessPers = []\n",
    "includeInds = np.full(len(newDetOfInterest), False, dtype = bool)\n",
    "includeInds[0:int((float(samplePer)*len(includeInds)) / 100)] = True\n",
    "\n",
    "for _ in range(10000):\n",
    "    np.random.shuffle(includeInds)\n",
    "    bootExcessPers.append(np.average(newDetOfInterest[includeInds]) / ave)"
   ]
  },
  {
   "cell_type": "code",
   "execution_count": 22,
   "id": "f77c1920-18f1-41c5-8d67-ef61d639a09f",
   "metadata": {},
   "outputs": [],
   "source": [
    "pureBootPers = []\n",
    "\n",
    "for _ in range(10000):\n",
    "    includeInds = np.random.randint(0, high = len(cropDetOfInterest), size = len(cropDetOfInterest))\n",
    "    pureBootPers.append(np.average(cropDetOfInterest[includeInds]) / ave)"
   ]
  },
  {
   "cell_type": "code",
   "execution_count": 26,
   "id": "2cc96237-bb87-4814-8b37-91f9d8a6e56e",
   "metadata": {},
   "outputs": [
    {
     "data": {
      "image/png": "[encoded data removed]",
      "text/plain": [
       "<Figure size 960x720 with 1 Axes>"
      ]
     },
     "metadata": {},
     "output_type": "display_data"
    }
   ],
   "source": [
    "plt.figure(dpi = 120)\n",
    "plt.hist(excessPers, bins = np.linspace(1, 1.25, 51), alpha = 0.5, label = 'Actual Distribution', density = True)\n",
    "plt.hist(bootExcessPers, bins = np.linspace(1, 1.25, 51), alpha = 0.5, label = 'Adjusted Bootstrap', density = True)\n",
    "# plt.hist(pureBootPers, bins = np.linspace(1.1, 1.225, 31), alpha = 0.5, label = 'Pure Bootstrap', density = True)\n",
    "plt.xlabel('Detection Rate Over Average')\n",
    "plt.ylabel('Percent of Realizations')\n",
    "plt.title('Sampling Algorithm Comparisons')\n",
    "plt.legend()\n",
    "plt.show()"
   ]
  },
  {
   "cell_type": "code",
   "execution_count": 24,
   "id": "defc8a5a-6245-4e4a-b37c-cd28a7413e27",
   "metadata": {},
   "outputs": [
    {
     "name": "stdout",
     "output_type": "stream",
     "text": [
      "0.007206311668846851\n",
      "0.007347601465797614\n",
      "0.010235150743853713\n",
      "0.01960639553817294\n"
     ]
    }
   ],
   "source": [
    "print(np.std(excessPers))\n",
    "print(np.std(bootExcessPers))\n",
    "print(np.std(pureBootPers))\n",
    "print(np.abs(np.std(bootExcessPers) - np.std(excessPers)) / np.std(excessPers))"
   ]
  },
  {
   "cell_type": "markdown",
   "id": "6ba64145-663e-4922-823e-936fb79ce2a7",
   "metadata": {},
   "source": [
    "# End of Test"
   ]
  },
  {
   "cell_type": "code",
   "execution_count": 25,
   "id": "cbd68d09-9873-4b98-9834-de5b56d965e7",
   "metadata": {},
   "outputs": [],
   "source": [
    "ave = np.average(origAllDetPixCounts)\n",
    "testPix = []\n",
    "\n",
    "for i in np.arange(numAreas):\n",
    "    pixOfInterest = np.isin(origAllDetPix, areaPix[i])\n",
    "    detOfInterest = origAllDetPixCounts[pixOfInterest]\n",
    "    areaAve = np.average(detOfInterest)\n",
    "    \n",
    "    includeInds = np.full(len(detOfInterest), False, dtype = bool)\n",
    "    includeInds[0:int((float(20)*len(includeInds)) / 100)] = True\n",
    "\n",
    "    np.random.shuffle(includeInds)\n",
    "    cropDetOfInterest = detOfInterest[includeInds]\n",
    "\n",
    "    cropAve = np.average(cropDetOfInterest)\n",
    "\n",
    "    while (np.abs(areaAve - cropAve) / areaAve) > 0.001:\n",
    "        np.random.shuffle(includeInds)\n",
    "        cropDetOfInterest = detOfInterest[includeInds]\n",
    "        cropAve = np.average(cropDetOfInterest)\n",
    "        \n",
    "    testPix.append(origAllDetPix[pixOfInterest][includeInds])"
   ]
  },
  {
   "cell_type": "code",
   "execution_count": 26,
   "id": "a12ad116-9dcb-43e5-9766-90764c3b1ff8",
   "metadata": {},
   "outputs": [],
   "source": [
    "allTestPix = []\n",
    "for i in np.arange(len(testPix)):\n",
    "    allTestPix.extend(testPix[i])\n",
    "allTestPix = np.array(allTestPix)"
   ]
  },
  {
   "cell_type": "code",
   "execution_count": 27,
   "id": "e43819b4-f16e-4bb5-941b-daedd2a8d409",
   "metadata": {},
   "outputs": [],
   "source": [
    "aveTest = np.average(origAllDetPixCounts[np.isin(origAllDetPix, allTestPix)])"
   ]
  },
  {
   "cell_type": "code",
   "execution_count": 28,
   "id": "d0a2fd16-c75d-4470-b459-c620ba37fb9c",
   "metadata": {},
   "outputs": [],
   "source": [
    "writeFile = directory + 'Stars/Area_Errors/0.0_Percent_' + str(rMagCut[0]) + '_' + str(rMagCut[1]) + '.fits'\n",
    "\n",
    "my_table = Table()\n",
    "\n",
    "for i in np.arange(len(testPix)):\n",
    "    cropDetOfInterest = origAllDetPixCounts[np.isin(origAllDetPix, testPix[i])]\n",
    "    newDetOfInterest = np.hstack((cropDetOfInterest,) * 5)\n",
    "    \n",
    "    bootExcessPers = []\n",
    "    includeInds = np.full(len(newDetOfInterest), False, dtype = bool)\n",
    "    includeInds[0:int((float(20)*len(includeInds)) / 100)] = True\n",
    "\n",
    "    for _ in range(10000):\n",
    "        np.random.shuffle(includeInds)\n",
    "        bootExcessPers.append(np.average(newDetOfInterest[includeInds]) / aveTest)\n",
    "        \n",
    "    bootExcessPers = np.array(bootExcessPers)\n",
    "    \n",
    "    my_table[str(i)] = bootExcessPers\n",
    "\n",
    "my_table.write(writeFile, overwrite = True)"
   ]
  },
  {
   "cell_type": "code",
   "execution_count": 29,
   "id": "553b97fb-c3c0-4b1a-b94a-b74664f59245",
   "metadata": {},
   "outputs": [],
   "source": [
    "origCondFiles = []\n",
    "for cond in conditions:\n",
    "    origCondFiles.append('/hdfs/bechtol/balrog/y3/y3a2_survey_conditions_maps/Kyle_Stuff/MaximumLikelihood/BalrogTests/Test1/Conds/' + cond + '.fits')\n",
    "origCondFiles = np.array(origCondFiles)\n",
    "\n",
    "origCondMaps = []\n",
    "newPixCrop = np.isin(oldValidPix, validPix)\n",
    "\n",
    "# This loops over every condition file\n",
    "for condFile in origCondFiles:\n",
    "    condData = fitsio.read(condFile) # This reads in the data\n",
    "    origCondMaps.append(condData['SIGNAL'][newPixCrop]) # Only stores the values that are in pixels with injections\n",
    "\n",
    "origCondMaps = np.array(origCondMaps)"
   ]
  },
  {
   "cell_type": "code",
   "execution_count": 30,
   "id": "8da33f35-9890-4459-b8a2-f85ecb034399",
   "metadata": {},
   "outputs": [],
   "source": [
    "persToUse = np.linspace(100, 20, 5)"
   ]
  },
  {
   "cell_type": "markdown",
   "id": "24fa114a-c144-4c69-a11b-d9ffe45fd633",
   "metadata": {},
   "source": [
    "## This Part Still Needs Work"
   ]
  },
  {
   "cell_type": "code",
   "execution_count": 31,
   "id": "b45dcb1b-3586-428c-b471-b74028f0ec9c",
   "metadata": {},
   "outputs": [
    {
     "ename": "KeyboardInterrupt",
     "evalue": "",
     "output_type": "error",
     "traceback": [
      "\u001b[0;31m---------------------------------------------------------------------------\u001b[0m",
      "\u001b[0;31mKeyboardInterrupt\u001b[0m                         Traceback (most recent call last)",
      "Input \u001b[0;32mIn [31]\u001b[0m, in \u001b[0;36m<cell line: 31>\u001b[0;34m()\u001b[0m\n\u001b[1;32m     88\u001b[0m yBinsOrig \u001b[38;5;241m=\u001b[39m []\n\u001b[1;32m     89\u001b[0m \u001b[38;5;28;01mfor\u001b[39;00m i \u001b[38;5;129;01min\u001b[39;00m \u001b[38;5;28mrange\u001b[39m(\u001b[38;5;28mlen\u001b[39m(condMaps)):\n\u001b[0;32m---> 90\u001b[0m     detSort \u001b[38;5;241m=\u001b[39m \u001b[43morigDetPixCounts\u001b[49m\u001b[43m[\u001b[49m\u001b[43mtrainInds\u001b[49m\u001b[43m]\u001b[49m\u001b[43m[\u001b[49m\u001b[43msortInds\u001b[49m\u001b[43m[\u001b[49m\u001b[43mi\u001b[49m\u001b[43m]\u001b[49m\u001b[43m[\u001b[49m\u001b[43m:\u001b[49m\u001b[43m:\u001b[49m\u001b[38;5;241;43m1\u001b[39;49m\u001b[43m]\u001b[49m\u001b[43m]\u001b[49m\n\u001b[1;32m     91\u001b[0m     detBins \u001b[38;5;241m=\u001b[39m []\n\u001b[1;32m     92\u001b[0m     \u001b[38;5;28;01mfor\u001b[39;00m j \u001b[38;5;129;01min\u001b[39;00m \u001b[38;5;28mrange\u001b[39m(binNum):\n",
      "\u001b[0;31mKeyboardInterrupt\u001b[0m: "
     ]
    }
   ],
   "source": [
    "allPixFile = strConfig.detStarAllPosFile\n",
    "\n",
    "origInjData = fitsio.read(allPixFile)\n",
    "\n",
    "origInjPix = origInjData['PIXEL']\n",
    "origValidPix = np.unique(origInjPix)\n",
    "origInjPix = origInjPix[~np.isin(origInjPix, allTestPix)]\n",
    "\n",
    "origInjPix = np.sort(origInjPix)\n",
    "\n",
    "# Everything from here until the main loop is to generate matchInds.\n",
    "# These are only necessary in the train data where crops are made.\n",
    "\n",
    "origInjPixUnique, origInjPixCounts = np.unique(origInjPix, return_counts = True)\n",
    "\n",
    "trainOrigDetPix = origDetPix[~np.isin(origDetPix, allTestPix)]\n",
    "matchInds = np.zeros(len(trainOrigDetPix), dtype = int)\n",
    "\n",
    "startInjInds = np.append(np.array([0]), np.cumsum(origInjPixCounts)[:-1])\n",
    "\n",
    "trainOrigAllDetPixCounts = origAllDetPixCounts[~np.isin(origAllDetPix, allTestPix)]\n",
    "# origAllDetPix counts needs this continuous crop since it wasn't cropped immediately\n",
    "startDetInds = np.append(np.array([0]), np.cumsum(trainOrigAllDetPixCounts)[:-1])\n",
    "\n",
    "for i in np.arange(len(trainOrigAllDetPixCounts)):\n",
    "    if trainOrigAllDetPixCounts[i] == 0:\n",
    "        continue\n",
    "    matchInds[startDetInds[i]: startDetInds[i] + trainOrigAllDetPixCounts[i]] = np.arange(trainOrigAllDetPixCounts[i]).astype(int) + startInjInds[i]\n",
    "    \n",
    "# STILL NEEDS WORK FROM HERE ON\n",
    "for perObjectsToUse in persToUse:\n",
    "    \n",
    "    includeInds = np.full(len(origInjPix), False, dtype = bool)\n",
    "    includeInds[0:int((float(perObjectsToUse)*len(includeInds)) / 100)] = True\n",
    "    np.random.shuffle(includeInds)\n",
    "    \n",
    "    detPix = trainOrigDetPix[includeInds[matchInds]]\n",
    "    injPix = origInjPix[includeInds]\n",
    "    \n",
    "    detPix = np.append(detPix, origDetPix[np.isin(origDetPix, allTestPix)])\n",
    "    injPix = np.append(injPix, allTestPix)\n",
    "\n",
    "    validPix =  np.unique(injPix)\n",
    "    \n",
    "    condCrop = np.isin(origValidPix, validPix)\n",
    "    \n",
    "    detPixIndicator, origDetPixCounts = np.unique(np.append(validPix, detPix), return_counts = True)\n",
    "    origDetPixCounts = origDetPixCounts - 1\n",
    "    \n",
    "    condMaps = []\n",
    "\n",
    "    # This loops over every condition file\n",
    "    for origCondMap in origCondMaps:\n",
    "        condMaps.append(origCondMap[condCrop]) # Only stores the values that are in pixels with injections\n",
    "\n",
    "    condMaps = np.array(condMaps)\n",
    "    \n",
    "    trainInds = ~np.isin(detPixIndicator, allTestPix)\n",
    "    \n",
    "    aveDetTrain = np.average(origDetPixCounts[trainInds])\n",
    "\n",
    "    sortInds = []\n",
    "    for i in range(len(condMaps)):\n",
    "        sortInds.append(condMaps[i][trainInds].argsort())\n",
    "    sortInds = np.array(sortInds)\n",
    "    \n",
    "    binIndLims = [0]\n",
    "\n",
    "    for j in range(binNum):\n",
    "        binIndLims.append(int((np.sum(trainInds) - binIndLims[-1]) / (binNum - j)) + (binIndLims[-1]))\n",
    "        \n",
    "    xBins = []\n",
    "\n",
    "    for i in range(len(condMaps)):\n",
    "        cond_Map_Sort = condMaps[i][trainInds][sortInds[i][::1]]\n",
    "        condBins = []\n",
    "        for j in range(binNum):\n",
    "            condBins.append(cond_Map_Sort[binIndLims[j]:binIndLims[j+1]])\n",
    "        indXBin = []\n",
    "\n",
    "        for j in range(binNum):\n",
    "            indXBin.append(np.average(condBins[j]))\n",
    "\n",
    "        xBins.append(np.array(indXBin))\n",
    "\n",
    "    xBins = np.array(xBins)\n",
    "    \n",
    "    yBinsOrig = []\n",
    "    for i in range(len(condMaps)):\n",
    "        detSort = origDetPixCounts[trainInds][sortInds[i][::1]]\n",
    "        detBins = []\n",
    "        for j in range(binNum):\n",
    "            detBins.append(detSort[binIndLims[j]:binIndLims[j+1]])\n",
    "        indYBinOrig = []\n",
    "\n",
    "        for j in range(binNum):\n",
    "            indYBinOrig.append(np.average(detBins[j]) / aveDetTrain)\n",
    "\n",
    "        yBinsOrig.append(np.array(indYBinOrig))\n",
    "\n",
    "    yBinsOrig = np.array(yBinsOrig)\n",
    "    \n",
    "    detPixCounts = np.copy(origDetPixCounts)\n",
    "    \n",
    "    allErrors = []\n",
    "\n",
    "    while(True):\n",
    "\n",
    "        yBins = []\n",
    "        for i in range(len(condMaps)):\n",
    "            detSort = detPixCounts[trainInds][sortInds[i][::1]]\n",
    "            detBins = []\n",
    "            for j in range(binNum):\n",
    "                detBins.append(detSort[binIndLims[j]:binIndLims[j+1]])\n",
    "            indYBin = []\n",
    "\n",
    "            for j in range(binNum):\n",
    "                indYBin.append(np.average(detBins[j]) / aveDetTrain)\n",
    "\n",
    "            yBins.append(np.array(indYBin))\n",
    "\n",
    "        yBins = np.array(yBins)\n",
    "\n",
    "        index, maxErr = mostSigInd(yBins)\n",
    "        if index == -1:\n",
    "            break\n",
    "\n",
    "        allErrors.append(maxErr)\n",
    "\n",
    "        corrFunc = inter.interp1d(xBins[index], yBins[index], bounds_error = False, fill_value = (yBins[index][0], yBins[index][-1]))\n",
    "\n",
    "        detPixCounts = detPixCounts / (corrFunc(condMaps[index]))\n",
    "\n",
    "        detPixCounts = detPixCounts * aveDetTrain / (np.average(detPixCounts[trainInds]))\n",
    "    \n",
    "    aveDetTest = np.average(detPixCounts[~trainInds])\n",
    "    \n",
    "    writeFile = directory + 'Stars/Area_Errors/' + str(perObjectsToUse) + '_Percent_' + str(rMagCut[0]) + '_' + str(rMagCut[1]) + '.fits'\n",
    "    my_table = Table()\n",
    "    \n",
    "    for i in np.arange(len(testPix)):\n",
    "        \n",
    "        cropDetOfInterest = detPixCounts[np.isin(detPixIndicator, testPix[i])]\n",
    "        newDetOfInterest = np.hstack((cropDetOfInterest,) * 5)\n",
    "\n",
    "        bootExcessPers = []\n",
    "        includeInds = np.full(len(newDetOfInterest), False, dtype = bool)\n",
    "        includeInds[0:int((float(20)*len(includeInds)) / 100)] = True\n",
    "\n",
    "        for _ in range(10000):\n",
    "            np.random.shuffle(includeInds)\n",
    "            bootExcessPers.append(np.average(newDetOfInterest[includeInds]) / aveDetTest)\n",
    "\n",
    "        bootExcessPers = np.array(bootExcessPers)\n",
    "\n",
    "        my_table[str(i)] = bootExcessPers\n",
    "        \n",
    "        if i == 0:\n",
    "            print(str(round(perObjectsToUse / 100, 3)) + ': ' + str(np.average(bootExcessPers)))\n",
    "        else:\n",
    "            print(str(np.average(bootExcessPers)))\n",
    "        \n",
    "    my_table.write(writeFile, overwrite = True)"
   ]
  },
  {
   "cell_type": "code",
   "execution_count": 9,
   "id": "6bfa6794-2ab3-402b-910e-7fa4cd2641e2",
   "metadata": {},
   "outputs": [],
   "source": [
    "results = []\n",
    "\n",
    "for i in np.linspace(0, 100, 6):\n",
    "    readFile = directory + 'Stars/Area_Errors/' + str(i) + '_Percent_' + str(rMagCut[0]) + '_' + str(rMagCut[1]) + '.fits'\n",
    "    results.append(fitsio.read(readFile))"
   ]
  },
  {
   "cell_type": "code",
   "execution_count": 15,
   "id": "5db41656-b115-445d-be51-6758928fe8ac",
   "metadata": {},
   "outputs": [
    {
     "name": "stdout",
     "output_type": "stream",
     "text": [
      "1.142482217521816\n",
      "0.9482621490946118\n",
      "0.9776844715390207\n",
      "0.9785812347518489\n",
      "0.9776680861479892\n",
      "0.9854506521553161\n"
     ]
    }
   ],
   "source": [
    "for i in range(len(results)):\n",
    "    indResult = results[i]['0']\n",
    "    print(np.average(indResult))"
   ]
  },
  {
   "cell_type": "code",
   "execution_count": 32,
   "id": "1340ab5d-c5e4-4c7f-9eed-5088350a1401",
   "metadata": {},
   "outputs": [
    {
     "data": {
      "image/png": "[encoded data removed]",
      "text/plain": [
       "<Figure size 960x720 with 1 Axes>"
      ]
     },
     "metadata": {},
     "output_type": "display_data"
    }
   ],
   "source": [
    "cmap = plt.get_cmap(\"tab10\")\n",
    "persUsed = np.linspace(0, 100, 6)\n",
    "plt.figure(dpi = 120)\n",
    "for i in np.arange(numAreas):\n",
    "    for j in np.arange(len(persUsed)):\n",
    "        plt.errorbar(np.average(results[j][str(i)]), persUsed[j] + (i - 1) * 2, xerr = np.std(results[j][str(i)]), color = cmap(i), capsize = 5, fmt = 'o', ms = 3.)\n",
    "plt.show()"
   ]
  },
  {
   "cell_type": "code",
   "execution_count": null,
   "id": "9f846ec0-6b48-4c7c-a462-61818e22790e",
   "metadata": {},
   "outputs": [],
   "source": []
  }
 ],
 "metadata": {
  "kernelspec": {
   "display_name": "Python 3 (ipykernel)",
   "language": "python",
   "name": "python3"
  },
  "language_info": {
   "codemirror_mode": {
    "name": "ipython",
    "version": 3
   },
   "file_extension": ".py",
   "mimetype": "text/x-python",
   "name": "python",
   "nbconvert_exporter": "python",
   "pygments_lexer": "ipython3",
   "version": "3.9.12"
  }
 },
 "nbformat": 4,
 "nbformat_minor": 5
}
