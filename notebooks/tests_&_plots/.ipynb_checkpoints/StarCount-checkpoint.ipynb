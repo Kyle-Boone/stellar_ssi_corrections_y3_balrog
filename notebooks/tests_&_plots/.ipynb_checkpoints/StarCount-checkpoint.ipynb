{
 "cells": [
  {
   "cell_type": "markdown",
   "id": "0be5d6b5-609f-48db-bc8f-9d377be63f59",
   "metadata": {},
   "source": [
    "## Overview\n",
    "\n",
    "Same as GalaxyCount but for stars"
   ]
  },
  {
   "cell_type": "code",
   "execution_count": 1,
   "id": "e8f4fd81-0f0a-4ee7-8d16-93ee9921f68b",
   "metadata": {},
   "outputs": [],
   "source": [
    "import sys\n",
    "sys.path.insert(1, '/afs/hep.wisc.edu/home/kkboone/software/StarWeights/FinalPipeline')\n",
    "import fitsio\n",
    "import numpy as np\n",
    "import healpy as hp\n",
    "import scipy as sc\n",
    "import matplotlib.pyplot as plt\n",
    "import matplotlib.style\n",
    "import matplotlib\n",
    "from scipy import interpolate as inter\n",
    "from astropy.table import Table\n",
    "import StellarConfig as strConfig\n",
    "import Config\n",
    "# from matplotlib.path import Path Cut has already been applied\n",
    "matplotlib.style.use('des_dr1')"
   ]
  },
  {
   "cell_type": "code",
   "execution_count": 2,
   "id": "ca3702c5-0805-42c0-8575-a1f8368b8f49",
   "metadata": {},
   "outputs": [],
   "source": [
    "directory = '/hdfs/bechtol/balrog/y3/y3a2_survey_conditions_maps/Kyle_Stuff/MaximumLikelihood/FinalPipeline/Tests/Object_Counts/'"
   ]
  },
  {
   "cell_type": "markdown",
   "id": "548da415-b77a-4545-b925-d7ff903763cb",
   "metadata": {},
   "source": [
    "### Areas of Interest"
   ]
  },
  {
   "cell_type": "code",
   "execution_count": 3,
   "id": "53a4f81f-a459-4258-b240-4247e0798d1d",
   "metadata": {},
   "outputs": [],
   "source": [
    "# pixFile = strConfig.pixFile\n",
    "# condFiles = strConfig.condFiles"
   ]
  },
  {
   "cell_type": "code",
   "execution_count": 4,
   "id": "cbb3d0f4-e342-474c-a0f2-9eb2629eb7a0",
   "metadata": {},
   "outputs": [],
   "source": [
    "# condPix = fitsio.read(pixFile)['PIXEL']"
   ]
  },
  {
   "cell_type": "code",
   "execution_count": 5,
   "id": "04022839-60cc-4604-9319-0cfdf2c3f1ff",
   "metadata": {},
   "outputs": [],
   "source": [
    "# helpRa, helpDec = hp.pixelfunc.pix2ang(4096, np.arange(12*(4096**2)), nest=True, lonlat=True)"
   ]
  },
  {
   "cell_type": "code",
   "execution_count": 6,
   "id": "b70b81b5-66d8-4d98-92f2-c9a02a784b6b",
   "metadata": {},
   "outputs": [],
   "source": [
    "# ra30Pix = np.where((helpRa >= 27) & (helpRa <= 29.5) & (helpDec >= -20) & (helpDec <= -5))[0]\n",
    "# ra30Crop = np.isin(condPix, ra30Pix)"
   ]
  },
  {
   "cell_type": "code",
   "execution_count": 7,
   "id": "28758515-5dcc-4656-97d1-bc4747398cde",
   "metadata": {},
   "outputs": [],
   "source": [
    "# galaPlanePix = np.where((helpRa >= 270) & (helpRa <= 315) & (helpDec <= -30))[0]\n",
    "# galaPlaneCrop = np.isin(condPix, galaPlanePix)"
   ]
  },
  {
   "cell_type": "code",
   "execution_count": 8,
   "id": "316d2145-278b-40a0-af86-564538ac4c52",
   "metadata": {},
   "outputs": [],
   "source": [
    "# randomPix = np.where((helpRa >= 40) & (helpRa <= 50) & (helpDec >= -25) & (helpDec <= -20))[0]\n",
    "# randomCrop = np.isin(condPix, randomPix)"
   ]
  },
  {
   "cell_type": "code",
   "execution_count": 9,
   "id": "05554464-19d5-4114-a6f4-4fc55307fd86",
   "metadata": {},
   "outputs": [],
   "source": [
    "# ra30Conds = []\n",
    "# galaPlaneConds = []\n",
    "# randomConds = []\n",
    "\n",
    "# for condFile in condFiles:\n",
    "#     condData = fitsio.read(condFile)['SIGNAL']\n",
    "#     ra30Conds.append(np.average(condData[ra30Crop]))\n",
    "#     galaPlaneConds.append(np.average(condData[galaPlaneCrop]))\n",
    "#     randomConds.append(np.average(condData[randomCrop]))\n",
    "    \n",
    "# ra30Conds = np.array(ra30Conds)\n",
    "# galaPlaneConds = np.array(galaPlaneConds)\n",
    "# randomConds = np.array(randomConds)"
   ]
  },
  {
   "cell_type": "code",
   "execution_count": 10,
   "id": "c0a712f6-48db-4659-882a-b95a1d19c5f8",
   "metadata": {},
   "outputs": [],
   "source": [
    "# conditionsFile = directory + 'Three_Locations_Properties.fits'\n",
    "# # conditions_table = Table()\n",
    "# # conditions_table['RA_30'] = ra30Conds\n",
    "# # conditions_table['GALA_PLANE'] = galaPlaneConds\n",
    "# # conditions_table['RANDOM'] = randomConds\n",
    "# # conditions_table.write(conditionsFile, overwrite = True)"
   ]
  },
  {
   "cell_type": "code",
   "execution_count": 11,
   "id": "35e818a3-0fde-4174-be49-c4c7f63deeb7",
   "metadata": {},
   "outputs": [],
   "source": [
    "# ra30Conds = fitsio.read(conditionsFile)['RA_30']\n",
    "# galaPlaneConds = fitsio.read(conditionsFile)['GALA_PLANE']\n",
    "# randomConds = fitsio.read(conditionsFile)['RANDOM']"
   ]
  },
  {
   "cell_type": "markdown",
   "id": "5980a96b-344b-4bc3-a7b7-15fa984f12f8",
   "metadata": {},
   "source": [
    "### Actual Algorithm"
   ]
  },
  {
   "cell_type": "code",
   "execution_count": 12,
   "id": "f754db89-04c3-4da1-a95f-bf86859fcc0a",
   "metadata": {},
   "outputs": [],
   "source": [
    "def mostSigInd(y):\n",
    "    maxSquaredDiff = 0\n",
    "    index = -1\n",
    "    \n",
    "    maxSingError = np.max(np.abs(y - 1))\n",
    "    \n",
    "    if maxSingError <= cutOffPercent:\n",
    "        return index, maxSingError\n",
    "    \n",
    "    for i in range(len(y)):\n",
    "        yi = y[i]\n",
    "        \n",
    "        diff = np.sum((yi - 1)**2)\n",
    "        \n",
    "        if diff > maxSquaredDiff:\n",
    "            maxSquaredDiff = diff\n",
    "            index = i\n",
    "            \n",
    "    return index, maxSingError"
   ]
  },
  {
   "cell_type": "code",
   "execution_count": 13,
   "id": "57a1df63-129b-48c5-add2-70d26c8f2f62",
   "metadata": {},
   "outputs": [],
   "source": [
    "cutOffPercent = .01\n",
    "res = 4096\n",
    "binNum = 10\n",
    "classCut = 1.5\n",
    "# path = strConfig.path Cut has already been applied\n",
    "# mu = strConfig.mu\n",
    "rMagCut = [23.9, 24.5]\n",
    "conditions = Config.conditions"
   ]
  },
  {
   "cell_type": "code",
   "execution_count": 14,
   "id": "d295c4bc-832e-4276-9d9f-cd2660ec8c3e",
   "metadata": {},
   "outputs": [],
   "source": [
    "# validPixFile = strConfig.detStarAllPosFile"
   ]
  },
  {
   "cell_type": "code",
   "execution_count": 15,
   "id": "99ea3f59-c41b-47f3-8858-953b2cce54fd",
   "metadata": {},
   "outputs": [],
   "source": [
    "# validPix = np.unique(fitsio.read(validPixFile)['PIXEL'])"
   ]
  },
  {
   "cell_type": "code",
   "execution_count": 16,
   "id": "0f0ec646-fb9c-4975-8bc9-9283d7975ae4",
   "metadata": {},
   "outputs": [],
   "source": [
    "# # This includes a test1a part\n",
    "# oldValidPixFile = '/hdfs/bechtol/balrog/y3/y3a2_survey_conditions_maps/Kyle_Stuff/MaximumLikelihood/BalrogTests/Test1/ValidPix.fits'"
   ]
  },
  {
   "cell_type": "code",
   "execution_count": 17,
   "id": "3de46367-4cde-48fe-82c5-c4a2276c20dc",
   "metadata": {},
   "outputs": [],
   "source": [
    "# oldValidPix = fitsio.read(oldValidPixFile)['PIXEL']"
   ]
  },
  {
   "cell_type": "markdown",
   "id": "21e35c5b-ba6f-411d-ac57-066f72600b62",
   "metadata": {},
   "source": [
    "# NOTE:\n",
    "\n",
    "I just copy and pasted this. Every gala should just be replaced by star from here on out."
   ]
  },
  {
   "cell_type": "code",
   "execution_count": 18,
   "id": "14d2520d-343b-40e8-a93e-ba2608f88745",
   "metadata": {},
   "outputs": [],
   "source": [
    "# # Already has color and quality cuts applied.\n",
    "# matStarFile = strConfig.matStarFile"
   ]
  },
  {
   "cell_type": "code",
   "execution_count": 19,
   "id": "de3ebdcf-d3a6-4773-b6cb-b69854f84208",
   "metadata": {},
   "outputs": [],
   "source": [
    "# matStarData = fitsio.read(matStarFile)"
   ]
  },
  {
   "cell_type": "code",
   "execution_count": 20,
   "id": "aafe79e8-193f-4200-81ee-9d7045699b26",
   "metadata": {},
   "outputs": [],
   "source": [
    "# matStarRA = matStarData['RA']\n",
    "# matStarDEC = matStarData['DEC']\n",
    "# # matStarGMAG = matStarData['GMAG'] Unnecessary, cuts are based on RMAG\n",
    "# matStarRMAG = matStarData['RMAG']\n",
    "# matStarCLASS = matStarData['CLASS']\n",
    "\n",
    "# # Naming conventions changing to match original file\n",
    "# matPix = hp.ang2pix(res, matStarRA, matStarDEC, nest = True, lonlat = True)\n",
    "\n",
    "# pixCut = np.isin(matPix, validPix)\n",
    "# matPix = matPix[pixCut]\n",
    "# matRmag = matStarRMAG[pixCut]\n",
    "# matClass = matStarCLASS[pixCut]\n",
    "\n",
    "# magCut = np.where((matRmag <= rMagCut[1]) & (matRmag > rMagCut[0]))[0]\n",
    "# matPix = matPix[magCut]\n",
    "# matClass = matClass[magCut]\n",
    "\n",
    "# classCuts = np.where((matClass >= 0) & (matClass <= classCut))[0]\n",
    "# matPix = matPix[classCuts]\n",
    "\n",
    "# origDetPix = np.copy(matPix)\n",
    "# origDetPix = np.sort(origDetPix)"
   ]
  },
  {
   "cell_type": "code",
   "execution_count": 21,
   "id": "810c66e1-bd89-4060-8d0a-05d3a89ec321",
   "metadata": {},
   "outputs": [],
   "source": [
    "# _, origAllDetPixCounts = np.unique(np.append(validPix, origDetPix), return_counts = True)\n",
    "# origAllDetPixCounts = origAllDetPixCounts - 1"
   ]
  },
  {
   "cell_type": "code",
   "execution_count": 22,
   "id": "78d15ee0-a022-4a1f-8f27-fcdc087c0fbd",
   "metadata": {},
   "outputs": [],
   "source": [
    "# origCondFiles = []\n",
    "# for cond in conditions:\n",
    "#     origCondFiles.append('/hdfs/bechtol/balrog/y3/y3a2_survey_conditions_maps/Kyle_Stuff/MaximumLikelihood/BalrogTests/Test1/Conds/' + cond + '.fits')\n",
    "# origCondFiles = np.array(origCondFiles)\n",
    "\n",
    "# origCondMaps = []\n",
    "# newPixCrop = np.isin(oldValidPix, validPix)\n",
    "\n",
    "# # This loops over every condition file\n",
    "# for condFile in origCondFiles:\n",
    "#     condData = fitsio.read(condFile) # This reads in the data\n",
    "#     origCondMaps.append(condData['SIGNAL'][newPixCrop]) # Only stores the values that are in pixels with injections\n",
    "\n",
    "# origCondMaps = np.array(origCondMaps)"
   ]
  },
  {
   "cell_type": "code",
   "execution_count": 23,
   "id": "8d9a339a-dd1e-47ce-849d-1d5e83662060",
   "metadata": {},
   "outputs": [],
   "source": [
    "# 1.5 for brightest bin\n",
    "persToUse = np.logspace(1.5, 2, 20)"
   ]
  },
  {
   "cell_type": "code",
   "execution_count": 24,
   "id": "2a496fea-790e-49d2-9847-fd02f75a6e51",
   "metadata": {},
   "outputs": [],
   "source": [
    "# # I think just change this to the valud pix but drop off the np.unique()\n",
    "# allPixFile = strConfig.detStarAllPosFile\n",
    "\n",
    "# origInjData = fitsio.read(allPixFile)\n",
    "\n",
    "# origInjPix = origInjData['PIXEL']\n",
    "# origValidPix = np.unique(origInjPix)\n",
    "\n",
    "# origInjPix = np.sort(origInjPix)\n",
    "\n",
    "# # Everything from here until the main loop is to generate matchInds\n",
    "\n",
    "# origInjPixUnique, origInjPixCounts = np.unique(origInjPix, return_counts = True)\n",
    "\n",
    "# matchInds = np.zeros(len(origDetPix), dtype = int)\n",
    "\n",
    "# startInjInds = np.append(np.array([0]), np.cumsum(origInjPixCounts)[:-1])\n",
    "\n",
    "# startDetInds = np.append(np.array([0]), np.cumsum(origAllDetPixCounts)[:-1])\n",
    "\n",
    "# for i in np.arange(len(origAllDetPixCounts)):\n",
    "#     if origAllDetPixCounts[i] == 0:\n",
    "#         continue\n",
    "#     matchInds[startDetInds[i]: startDetInds[i] + origAllDetPixCounts[i]] = np.arange(origAllDetPixCounts[i]).astype(int) + startInjInds[i]\n",
    "    \n",
    "# for perObjectsToUse in persToUse:\n",
    "    \n",
    "#     includeInds = np.full(len(origInjPix), False, dtype = bool)\n",
    "#     includeInds[0:int((float(perObjectsToUse)*len(includeInds)) / 100)] = True\n",
    "#     np.random.shuffle(includeInds)\n",
    "    \n",
    "#     detPix = origDetPix[includeInds[matchInds]]\n",
    "#     injPix = origInjPix[includeInds]\n",
    "\n",
    "#     validPix =  np.unique(injPix)\n",
    "    \n",
    "#     condCrop = np.isin(origValidPix, validPix)\n",
    "    \n",
    "#     constantTrainPixIndicator, origDetPixCounts = np.unique(np.append(validPix, detPix), return_counts = True)\n",
    "#     origDetPixCounts = origDetPixCounts - 1\n",
    "    \n",
    "#     condMaps = []\n",
    "\n",
    "#     # This loops over every condition file\n",
    "#     for origCondMap in origCondMaps:\n",
    "#         condMaps.append(origCondMap[condCrop]) # Only stores the values that are in pixels with injections\n",
    "\n",
    "#     condMaps = np.array(condMaps)\n",
    "    \n",
    "#     trainInds = np.full(len(condMaps[0]), False, dtype = bool)\n",
    "#     trainInds[0:int(0.8*len(trainInds))] = True\n",
    "#     np.random.shuffle(trainInds)\n",
    "    \n",
    "#     aveDetTrain = np.sum(origDetPixCounts[trainInds]) / len(origDetPixCounts[trainInds])\n",
    "\n",
    "#     sortInds = []\n",
    "#     for i in range(len(condMaps)):\n",
    "#         sortInds.append(condMaps[i][trainInds].argsort())\n",
    "#     sortInds = np.array(sortInds)\n",
    "    \n",
    "#     binIndLims = [0]\n",
    "\n",
    "#     for j in range(binNum):\n",
    "#         binIndLims.append(int((np.sum(trainInds) - binIndLims[-1]) / (binNum - j)) + (binIndLims[-1]))\n",
    "        \n",
    "#     xBins = []\n",
    "\n",
    "#     for i in range(len(condMaps)):\n",
    "#         cond_Map_Sort = condMaps[i][trainInds][sortInds[i][::1]]\n",
    "#         condBins = []\n",
    "#         for j in range(binNum):\n",
    "#             condBins.append(cond_Map_Sort[binIndLims[j]:binIndLims[j+1]])\n",
    "#         indXBin = []\n",
    "\n",
    "#         for j in range(binNum):\n",
    "#             indXBin.append(np.sum(condBins[j]) / len(condBins[j]))\n",
    "\n",
    "#         xBins.append(np.array(indXBin))\n",
    "\n",
    "#     xBins = np.array(xBins)\n",
    "    \n",
    "#     yBinsOrig = []\n",
    "#     for i in range(len(condMaps)):\n",
    "#         detSort = origDetPixCounts[trainInds][sortInds[i][::1]]\n",
    "#         detBins = []\n",
    "#         for j in range(binNum):\n",
    "#             detBins.append(detSort[binIndLims[j]:binIndLims[j+1]])\n",
    "#         indYBinOrig = []\n",
    "\n",
    "#         for j in range(binNum):\n",
    "#             indYBinOrig.append(np.sum(detBins[j]) / (aveDetTrain * len(detBins[j])))\n",
    "\n",
    "#         yBinsOrig.append(np.array(indYBinOrig))\n",
    "\n",
    "#     yBinsOrig = np.array(yBinsOrig)\n",
    "    \n",
    "#     detPixCounts = np.copy(origDetPixCounts)\n",
    "    \n",
    "#     allErrors = []\n",
    "\n",
    "#     while(True):\n",
    "\n",
    "#         yBins = []\n",
    "#         for i in range(len(condMaps)):\n",
    "#             detSort = detPixCounts[trainInds][sortInds[i][::1]]\n",
    "#             detBins = []\n",
    "#             for j in range(binNum):\n",
    "#                 detBins.append(detSort[binIndLims[j]:binIndLims[j+1]])\n",
    "#             indYBin = []\n",
    "\n",
    "#             for j in range(binNum):\n",
    "#                 indYBin.append(np.sum(detBins[j]) / (aveDetTrain * len(detBins[j])))\n",
    "\n",
    "#             yBins.append(np.array(indYBin))\n",
    "\n",
    "#         yBins = np.array(yBins)\n",
    "\n",
    "#         index, maxErr = mostSigInd(yBins)\n",
    "#         if index == -1:\n",
    "#             break\n",
    "\n",
    "#         allErrors.append(maxErr)\n",
    "\n",
    "#         corrFunc = inter.interp1d(xBins[index], yBins[index], bounds_error = False, fill_value = (yBins[index][0], yBins[index][-1]))\n",
    "\n",
    "#         detPixCounts = detPixCounts / (corrFunc(condMaps[index]))\n",
    "\n",
    "#         detPixCounts = detPixCounts * aveDetTrain / (np.sum(detPixCounts[trainInds]) / len(detPixCounts[trainInds]))\n",
    "        \n",
    "#     binIndLims = [0]\n",
    "\n",
    "#     for j in range(binNum):\n",
    "#         binIndLims.append(int((np.sum(~trainInds) - binIndLims[-1]) / (binNum - j)) + (binIndLims[-1]))\n",
    "        \n",
    "#     condMaxErrors = []\n",
    "#     condSTDs = []\n",
    "#     condRA30 = []\n",
    "#     condGalaPlane = []\n",
    "#     condRandom = []\n",
    "    \n",
    "#     aveDetTest = np.sum(detPixCounts[~trainInds]) / len(detPixCounts[~trainInds])\n",
    "\n",
    "#     for condInd in range(len(condMaps)):\n",
    "#         condMap = condMaps[condInd]\n",
    "#         condSortInds = condMap[~trainInds].argsort()\n",
    "        \n",
    "#         cond_Map_Sort = condMaps[i][~trainInds][condSortInds[::1]]\n",
    "#         condBins = []\n",
    "#         for j in range(binNum):\n",
    "#             condBins.append(cond_Map_Sort[binIndLims[j]:binIndLims[j+1]])\n",
    "#         xBinCond = []\n",
    "\n",
    "#         for j in range(binNum):\n",
    "#             xBinCond.append(np.sum(condBins[j]) / len(condBins[j]))\n",
    "\n",
    "#         detStarTemp = detPixCounts[~trainInds][condSortInds[::1]]\n",
    "\n",
    "#         detBins = []\n",
    "\n",
    "#         for j in range(10):\n",
    "#             detBins.append(detStarTemp[binIndLims[j]:binIndLims[j+1]])\n",
    "\n",
    "#         yBinCond = []\n",
    "\n",
    "#         for j in range(10):\n",
    "#             yBinCond.append(np.sum(detBins[j]) / (aveDetTest * len(detBins[j])))\n",
    "\n",
    "#         yBinCond = np.array(yBinCond)\n",
    "        \n",
    "#         condErrFunc = inter.interp1d(xBinCond, yBinCond, bounds_error = False, fill_value = (yBinCond[0], yBinCond[-1]))\n",
    "\n",
    "#         condMaxErrors.append(np.max(np.abs(yBinCond - 1)))\n",
    "#         condSTDs.append(np.std(yBinCond))\n",
    "#         condRA30.append(condErrFunc(ra30Conds[condInd]))\n",
    "#         condGalaPlane.append(condErrFunc(galaPlaneConds[condInd]))\n",
    "#         condRandom.append(condErrFunc(randomConds[condInd]))\n",
    "        \n",
    "#     condErrorsFile = directory + 'Stars/' + str(round(perObjectsToUse / 100, 3)) + '_Percent_' + str(rMagCut[0]) + '_' + str(rMagCut[1]) + '_Cond_Errors.fits'\n",
    "#     my_table = Table()\n",
    "#     my_table['Max_Errors'] = condMaxErrors\n",
    "#     my_table['Standard_Devs'] = condSTDs\n",
    "#     my_table['RA_30'] = condRA30\n",
    "#     my_table['GALA_PLANE'] = condGalaPlane\n",
    "#     my_table['RANDOM'] = condRandom\n",
    "#     my_table.write(condErrorsFile, overwrite = True)\n",
    "#     print(str(round(perObjectsToUse / 100, 3)) + ': ' + str(np.average(condMaxErrors)))"
   ]
  },
  {
   "cell_type": "code",
   "execution_count": 25,
   "id": "2c14461b-83e1-411e-94fd-78551ead8157",
   "metadata": {},
   "outputs": [],
   "source": [
    "errorsData = []\n",
    "for perObjectsToUse in persToUse:\n",
    "    condErrorsFile = directory + 'Stars/Cond_Errors/' + str(round(perObjectsToUse / 100, 3)) + '_Percent_' + str(rMagCut[0]) + '_' + str(rMagCut[1]) + '_Cond_Errors.fits'\n",
    "    errorsData.append(fitsio.read(condErrorsFile))"
   ]
  },
  {
   "cell_type": "code",
   "execution_count": 26,
   "id": "200a3468-addf-48b3-84ab-1fe63f7a5f4e",
   "metadata": {},
   "outputs": [],
   "source": [
    "maxDevs = []\n",
    "for i in range(len(persToUse)):\n",
    "    maxDevs.append(errorsData[i]['Max_Errors'])"
   ]
  },
  {
   "cell_type": "code",
   "execution_count": 27,
   "id": "de710ba3-d01d-4593-8715-dccc7c01ba46",
   "metadata": {},
   "outputs": [],
   "source": [
    "aveMaxDev = []\n",
    "for maxDev in maxDevs:\n",
    "    aveMaxDev.append(np.average(maxDev))"
   ]
  },
  {
   "cell_type": "code",
   "execution_count": 28,
   "id": "c36e3342-f031-4515-aca2-f1766ee90acf",
   "metadata": {},
   "outputs": [],
   "source": [
    "def func(x, C, b, k):\n",
    "    return C*(x**(-1*k)) + b"
   ]
  },
  {
   "cell_type": "code",
   "execution_count": 29,
   "id": "cdfbd4a5-e814-4694-9980-4b67e3fcefde",
   "metadata": {},
   "outputs": [
    {
     "data": {
      "text/plain": [
       "array([0.57693502, 0.00503517, 0.54202434])"
      ]
     },
     "execution_count": 29,
     "metadata": {},
     "output_type": "execute_result"
    }
   ],
   "source": [
    "popt, pcov = sc.optimize.curve_fit(func, persToUse, aveMaxDev, bounds=([0., 0., 0], [20, 0.1, 2]))\n",
    "popt"
   ]
  },
  {
   "cell_type": "code",
   "execution_count": 30,
   "id": "279f7ce4-211f-44ff-803e-5ce97216f642",
   "metadata": {},
   "outputs": [
    {
     "data": {
      "text/plain": [
       "array([0.51252552, 0.05051323, 0.41556017])"
      ]
     },
     "execution_count": 30,
     "metadata": {},
     "output_type": "execute_result"
    }
   ],
   "source": [
    "perr = np.sqrt(np.diag(pcov))\n",
    "perr"
   ]
  },
  {
   "cell_type": "code",
   "execution_count": 36,
   "id": "7b1b6873-c4ab-4202-896f-389051fcbd36",
   "metadata": {},
   "outputs": [
    {
     "data": {
      "image/png": "[encoded data removed]",
      "text/plain": [
       "<Figure size 800x600 with 1 Axes>"
      ]
     },
     "metadata": {},
     "output_type": "display_data"
    }
   ],
   "source": [
    "plt.figure()\n",
    "plt.scatter(persToUse, aveMaxDev, zorder = 3, label = 'Calculated')\n",
    "plt.plot(np.linspace(0.01, 100, 10000), func(np.linspace(0.01, 100, 10000), *popt), color = 'r', zorder = 3, label = 'Fit')\n",
    "# plt.text(20, 0.225, r'$y = Cx^{-k} + b$', bbox={'facecolor': 'white', 'alpha': 1, 'pad': 10}, zorder = 3)\n",
    "plt.legend()\n",
    "plt.ylim([0, 0.25])\n",
    "plt.xlim([0, 100])\n",
    "plt.grid(zorder = 0)\n",
    "plt.ylabel('Average Maximum Deviation')\n",
    "plt.xlabel('Percentage of Balrog Stars Used')\n",
    "plt.title(r'Balrog Stars, $23.9 < r \\leq 24.5$ Magnitude Bin')\n",
    "plt.show()"
   ]
  },
  {
   "cell_type": "code",
   "execution_count": 32,
   "id": "d5064096-fc63-47c6-9242-67d8e5ab3f4b",
   "metadata": {},
   "outputs": [
    {
     "data": {
      "text/plain": [
       "0.02490615830510763"
      ]
     },
     "execution_count": 32,
     "metadata": {},
     "output_type": "execute_result"
    }
   ],
   "source": [
    "x_test = np.linspace(100, 500, 10000)\n",
    "y_test = func(x_test, *popt)\n",
    "y_test[-1]"
   ]
  },
  {
   "cell_type": "code",
   "execution_count": 33,
   "id": "1430cd6a-3bd2-4552-bcc8-36c30ec88c10",
   "metadata": {},
   "outputs": [],
   "source": [
    "# stds = []\n",
    "# pers = []\n",
    "# for i in range(len(errorsData)):\n",
    "#     stds.append(errorsData[i]['Standard_Devs'])\n",
    "# for i in range(92):\n",
    "#     pers.append(persToUse)\n",
    "# stds = np.array(stds)\n",
    "# pers = np.array(pers)\n",
    "# stds = stds.T"
   ]
  },
  {
   "cell_type": "code",
   "execution_count": 34,
   "id": "6526c9df-4895-451c-b44f-1066aff7cb78",
   "metadata": {},
   "outputs": [],
   "source": [
    "# errorsData[-1]['Max_Errors'][39]"
   ]
  },
  {
   "cell_type": "code",
   "execution_count": 35,
   "id": "6ef553ba-f535-4995-a2f1-ba3ed8a1504e",
   "metadata": {},
   "outputs": [],
   "source": [
    "# plt.figure(dpi = 120)\n",
    "# plt.hist2d(pers.flatten(), stds.flatten(), bins = [np.logspace(1.5, 2, 21), np.linspace(0.01, 0.06, 10)], cmap = 'Blues')\n",
    "# plt.xscale('log')\n",
    "# plt.show()"
   ]
  },
  {
   "cell_type": "code",
   "execution_count": null,
   "id": "ccb51a73-5e71-4c0c-aeaa-e01eecfd08ea",
   "metadata": {},
   "outputs": [],
   "source": []
  }
 ],
 "metadata": {
  "kernelspec": {
   "display_name": "Python 3 (ipykernel)",
   "language": "python",
   "name": "python3"
  },
  "language_info": {
   "codemirror_mode": {
    "name": "ipython",
    "version": 3
   },
   "file_extension": ".py",
   "mimetype": "text/x-python",
   "name": "python",
   "nbconvert_exporter": "python",
   "pygments_lexer": "ipython3",
   "version": "3.9.12"
  }
 },
 "nbformat": 4,
 "nbformat_minor": 5
}
