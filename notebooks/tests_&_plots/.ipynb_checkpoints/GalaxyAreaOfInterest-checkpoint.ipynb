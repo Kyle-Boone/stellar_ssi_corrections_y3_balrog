{
 "cells": [
  {
   "cell_type": "markdown",
   "id": "26e8b169-885f-4e86-8ea2-cab181780d49",
   "metadata": {},
   "source": [
    "# NOTE:\n",
    "\n",
    "Still haven't edited this completely to match Star file. Make sure to use test1a files for old stuff."
   ]
  },
  {
   "cell_type": "code",
   "execution_count": 2,
   "id": "b85d8c51-ecc9-46ef-8229-8ceced17aa19",
   "metadata": {},
   "outputs": [],
   "source": [
    "import sys\n",
    "sys.path.insert(1, '/afs/hep.wisc.edu/home/kkboone/software/StarWeights/FinalPipeline')\n",
    "import fitsio\n",
    "import numpy as np\n",
    "import healpy as hp\n",
    "import scipy as sc\n",
    "import matplotlib.pyplot as plt\n",
    "import matplotlib.style\n",
    "import matplotlib\n",
    "from scipy import interpolate as inter\n",
    "from astropy.table import Table\n",
    "import StellarConfig as strConfig\n",
    "import Config\n",
    "# from matplotlib.path import Path Cut has already been applied\n",
    "matplotlib.style.use('des_dr1')"
   ]
  },
  {
   "cell_type": "code",
   "execution_count": 3,
   "id": "4e490a27-4720-49f4-849a-18f50f5bedc1",
   "metadata": {},
   "outputs": [],
   "source": [
    "directory = '/hdfs/bechtol/balrog/y3/y3a2_survey_conditions_maps/Kyle_Stuff/MaximumLikelihood/FinalPipeline/Tests/Object_Counts/'"
   ]
  },
  {
   "cell_type": "markdown",
   "id": "42e032d1-98b9-4005-9000-1ff8a02022cf",
   "metadata": {},
   "source": [
    "### Areas of Interest"
   ]
  },
  {
   "cell_type": "code",
   "execution_count": 4,
   "id": "7ee40f11-c263-4cb0-9c10-42fe750c310d",
   "metadata": {},
   "outputs": [],
   "source": [
    "numAreas = 3\n",
    "areaFile = directory + 'Three_Areas_Pixels.fits'\n",
    "areaData = fitsio.read(areaFile)\n",
    "areaPix = []\n",
    "for i in np.arange(numAreas):\n",
    "    areaPix.append(areaData[str(i)])"
   ]
  },
  {
   "cell_type": "code",
   "execution_count": 5,
   "id": "ef01f9b7-14d1-4b99-9f3e-42d56dd66453",
   "metadata": {},
   "outputs": [],
   "source": [
    "for i in np.arange(len(areaPix)):\n",
    "    area512 = areaPix[i]\n",
    "    fullArea512 = np.zeros(12*(512**2))\n",
    "    fullArea512[area512] = 1\n",
    "    fullArea4096 = hp.ud_grade(fullArea512, 4096, order_in = 'NESTED', order_out = 'NESTED')\n",
    "    areaPix[i] = np.where(fullArea4096 > 0.5)[0]"
   ]
  },
  {
   "cell_type": "markdown",
   "id": "05730ee7-fc1f-47f0-a6e1-902726816b11",
   "metadata": {},
   "source": [
    "### Actual Algorithm"
   ]
  },
  {
   "cell_type": "code",
   "execution_count": 6,
   "id": "ac7e73e7-0b87-4b92-b1b4-69235b0d93c1",
   "metadata": {},
   "outputs": [],
   "source": [
    "def mostSigInd(y):\n",
    "    maxSquaredDiff = 0\n",
    "    index = -1\n",
    "    \n",
    "    maxSingError = np.max(np.abs(y - 1))\n",
    "    \n",
    "    if maxSingError <= cutOffPercent:\n",
    "        return index, maxSingError\n",
    "    \n",
    "    for i in range(len(y)):\n",
    "        yi = y[i]\n",
    "        \n",
    "        diff = np.sum((yi - 1)**2)\n",
    "        \n",
    "        if diff > maxSquaredDiff:\n",
    "            maxSquaredDiff = diff\n",
    "            index = i\n",
    "            \n",
    "    return index, maxSingError"
   ]
  },
  {
   "cell_type": "code",
   "execution_count": 7,
   "id": "5e25e2e0-8497-4a19-957a-468f9e397fdd",
   "metadata": {},
   "outputs": [],
   "source": [
    "cutOffPercent = .01\n",
    "res = 4096\n",
    "binNum = 10\n",
    "classCut = 1.5\n",
    "# path = strConfig.path Cut has already been applied\n",
    "# mu = strConfig.mu\n",
    "rMagCut = [23.9, 24.5]\n",
    "conditions = Config.conditions"
   ]
  },
  {
   "cell_type": "code",
   "execution_count": 8,
   "id": "eae38c4a-fdec-4148-98c4-04b91212aa4d",
   "metadata": {},
   "outputs": [],
   "source": [
    "validPixFile = strConfig.detGalaAllPosFile"
   ]
  },
  {
   "cell_type": "code",
   "execution_count": 9,
   "id": "f35c10ed-ebd3-40b3-804d-a39a32ba32f1",
   "metadata": {},
   "outputs": [],
   "source": [
    "validPix = np.unique(fitsio.read(validPixFile)['PIXEL'])"
   ]
  },
  {
   "cell_type": "code",
   "execution_count": 10,
   "id": "e63dd231-6ec1-40f5-8ad9-0511ac07ccd3",
   "metadata": {},
   "outputs": [],
   "source": [
    "# This includes a test1a part\n",
    "oldValidPixFile = '/hdfs/bechtol/balrog/y3/y3a2_survey_conditions_maps/Kyle_Stuff/MaximumLikelihood/BalrogTests/Test1a/ValidPix.fits'"
   ]
  },
  {
   "cell_type": "code",
   "execution_count": 11,
   "id": "63705e83-c428-405a-8e05-5e8f6ec462e8",
   "metadata": {},
   "outputs": [],
   "source": [
    "oldValidPix = fitsio.read(oldValidPixFile)['PIXEL']"
   ]
  },
  {
   "cell_type": "code",
   "execution_count": 12,
   "id": "0e92864e-3edf-4402-af24-c1f66d280485",
   "metadata": {},
   "outputs": [],
   "source": [
    "# Already has color and quality cuts applied.\n",
    "matGalaFile = strConfig.matGalaFile"
   ]
  },
  {
   "cell_type": "code",
   "execution_count": 13,
   "id": "280dac48-bcaf-4bed-9c44-5080416d7e1e",
   "metadata": {},
   "outputs": [],
   "source": [
    "matGalaData = fitsio.read(matGalaFile)"
   ]
  },
  {
   "cell_type": "code",
   "execution_count": 14,
   "id": "f3a2347c-d4ad-4990-9ef4-bd80f4dc6fee",
   "metadata": {},
   "outputs": [],
   "source": [
    "matGalaRA = matGalaData['RA']\n",
    "matGalaDEC = matGalaData['DEC']\n",
    "# matGalaGMAG = matGalaData['GMAG'] Unnecessary, cuts are based on RMAG\n",
    "matGalaRMAG = matGalaData['RMAG']\n",
    "matGalaCLASS = matGalaData['CLASS']\n",
    "\n",
    "# Naming conventions changing to match original file\n",
    "matPix = hp.ang2pix(res, matGalaRA, matGalaDEC, nest = True, lonlat = True)\n",
    "\n",
    "pixCut = np.isin(matPix, validPix)\n",
    "matPix = matPix[pixCut]\n",
    "matRmag = matGalaRMAG[pixCut]\n",
    "matClass = matGalaCLASS[pixCut]\n",
    "\n",
    "magCut = np.where((matRmag <= rMagCut[1]) & (matRmag > rMagCut[0]))[0]\n",
    "matPix = matPix[magCut]\n",
    "matClass = matClass[magCut]\n",
    "\n",
    "classCuts = np.where((matClass >= 0) & (matClass <= classCut))[0]\n",
    "matPix = matPix[classCuts]\n",
    "\n",
    "origDetPix = np.copy(matPix)\n",
    "origDetPix = np.sort(origDetPix)"
   ]
  },
  {
   "cell_type": "code",
   "execution_count": 15,
   "id": "10932e8d-e09d-4b2f-a9c5-e40e2caeb203",
   "metadata": {},
   "outputs": [],
   "source": [
    "origAllDetPix, origAllDetPixCounts = np.unique(np.append(validPix, origDetPix), return_counts = True)\n",
    "origAllDetPixCounts = origAllDetPixCounts - 1"
   ]
  },
  {
   "cell_type": "code",
   "execution_count": 16,
   "id": "38d443fb-873d-4211-9a14-1509c4590281",
   "metadata": {},
   "outputs": [],
   "source": [
    "areaErrorsFile = directory + 'Galaxies/' + str(rMagCut[0]) + '_' + str(rMagCut[1]) + '_Area_Errors_Run_' + str(run) + '.fits'\n",
    "my_table = Table()\n",
    "my_table['Percent'] = np.array([0])\n",
    "my_table['RA_30'] = np.array([np.average(origAllDetPixCounts[np.isin(origAllDetPix, ra30Pix)]) / np.average(origAllDetPixCounts)])\n",
    "my_table['GALA_PLANE'] = np.array([np.average(origAllDetPixCounts[np.isin(origAllDetPix, galaPlanePix)]) / np.average(origAllDetPixCounts)])\n",
    "my_table['RANDOM'] = np.array([np.average(origAllDetPixCounts[np.isin(origAllDetPix, randomPix)]) / np.average(origAllDetPixCounts)])\n",
    "my_table.write(areaErrorsFile, overwrite = True)"
   ]
  },
  {
   "cell_type": "code",
   "execution_count": 17,
   "id": "90e4e8b0-f493-4e94-8246-36f7f95d59b2",
   "metadata": {},
   "outputs": [],
   "source": [
    "origCondFiles = []\n",
    "for cond in conditions:\n",
    "    origCondFiles.append('/hdfs/bechtol/balrog/y3/y3a2_survey_conditions_maps/Kyle_Stuff/MaximumLikelihood/BalrogTests/Test1a/Conds/' + cond + '.fits')\n",
    "origCondFiles = np.array(origCondFiles)\n",
    "\n",
    "origCondMaps = []\n",
    "newPixCrop = np.isin(oldValidPix, validPix)\n",
    "\n",
    "# This loops over every condition file\n",
    "for condFile in origCondFiles:\n",
    "    condData = fitsio.read(condFile) # This reads in the data\n",
    "    origCondMaps.append(condData['SIGNAL'][newPixCrop]) # Only stores the values that are in pixels with injections\n",
    "\n",
    "origCondMaps = np.array(origCondMaps)"
   ]
  },
  {
   "cell_type": "code",
   "execution_count": 18,
   "id": "e25bf651-b0f5-439f-a956-2f81a22a4ec8",
   "metadata": {},
   "outputs": [],
   "source": [
    "persToUse = np.logspace(1.5, 2, 20)"
   ]
  },
  {
   "cell_type": "code",
   "execution_count": 19,
   "id": "09c77b0d-3de4-4788-a5b4-b5be5d79fc44",
   "metadata": {},
   "outputs": [
    {
     "name": "stdout",
     "output_type": "stream",
     "text": [
      "0.654: 0.9703898905303135\n",
      "0.695: 1.069993560554352\n",
      "0.739: 1.0295680447412894\n",
      "0.785: 0.9676941950829913\n",
      "0.834: 1.0154178811228605\n",
      "0.886: 1.0050952315919044\n",
      "0.941: 1.0662111783873685\n",
      "1.0: 0.9872999586377751\n"
     ]
    }
   ],
   "source": [
    "# I think just change this to the valud pix but drop off the np.unique()\n",
    "allPixFile = strConfig.detGalaAllPosFile\n",
    "\n",
    "origInjData = fitsio.read(allPixFile)\n",
    "\n",
    "origInjPix = origInjData['PIXEL']\n",
    "origValidPix = np.unique(origInjPix)\n",
    "\n",
    "origInjPix = np.sort(origInjPix)\n",
    "\n",
    "# Everything from here until the main loop is to generate matchInds\n",
    "\n",
    "origInjPixUnique, origInjPixCounts = np.unique(origInjPix, return_counts = True)\n",
    "\n",
    "matchInds = np.zeros(len(origDetPix), dtype = int)\n",
    "\n",
    "startInjInds = np.append(np.array([0]), np.cumsum(origInjPixCounts)[:-1])\n",
    "\n",
    "startDetInds = np.append(np.array([0]), np.cumsum(origAllDetPixCounts)[:-1])\n",
    "\n",
    "for i in np.arange(len(origAllDetPixCounts)):\n",
    "    if origAllDetPixCounts[i] == 0:\n",
    "        continue\n",
    "    matchInds[startDetInds[i]: startDetInds[i] + origAllDetPixCounts[i]] = np.arange(origAllDetPixCounts[i]).astype(int) + startInjInds[i]\n",
    "    \n",
    "for perObjectsToUse in persToUse:\n",
    "    \n",
    "    includeInds = np.full(len(origInjPix), False, dtype = bool)\n",
    "    includeInds[0:int((float(perObjectsToUse)*len(includeInds)) / 100)] = True\n",
    "    np.random.shuffle(includeInds)\n",
    "    \n",
    "    detPix = origDetPix[includeInds[matchInds]]\n",
    "    injPix = origInjPix[includeInds]\n",
    "\n",
    "    validPix =  np.unique(injPix)\n",
    "    \n",
    "    condCrop = np.isin(origValidPix, validPix)\n",
    "    \n",
    "    detPixIndicator, origDetPixCounts = np.unique(np.append(validPix, detPix), return_counts = True)\n",
    "    origDetPixCounts = origDetPixCounts - 1\n",
    "    \n",
    "    condMaps = []\n",
    "\n",
    "    # This loops over every condition file\n",
    "    for origCondMap in origCondMaps:\n",
    "        condMaps.append(origCondMap[condCrop]) # Only stores the values that are in pixels with injections\n",
    "\n",
    "    condMaps = np.array(condMaps)\n",
    "    \n",
    "    trainInds = np.full(len(condMaps[0]), False, dtype = bool)\n",
    "    trainInds[0:int(0.8*len(trainInds))] = True\n",
    "    np.random.shuffle(trainInds)\n",
    "    \n",
    "    aveDetTrain = np.average(origDetPixCounts[trainInds])\n",
    "\n",
    "    sortInds = []\n",
    "    for i in range(len(condMaps)):\n",
    "        sortInds.append(condMaps[i][trainInds].argsort())\n",
    "    sortInds = np.array(sortInds)\n",
    "    \n",
    "    binIndLims = [0]\n",
    "\n",
    "    for j in range(binNum):\n",
    "        binIndLims.append(int((np.sum(trainInds) - binIndLims[-1]) / (binNum - j)) + (binIndLims[-1]))\n",
    "        \n",
    "    xBins = []\n",
    "\n",
    "    for i in range(len(condMaps)):\n",
    "        cond_Map_Sort = condMaps[i][trainInds][sortInds[i][::1]]\n",
    "        condBins = []\n",
    "        for j in range(binNum):\n",
    "            condBins.append(cond_Map_Sort[binIndLims[j]:binIndLims[j+1]])\n",
    "        indXBin = []\n",
    "\n",
    "        for j in range(binNum):\n",
    "            indXBin.append(np.average(condBins[j]))\n",
    "\n",
    "        xBins.append(np.array(indXBin))\n",
    "\n",
    "    xBins = np.array(xBins)\n",
    "    \n",
    "    yBinsOrig = []\n",
    "    for i in range(len(condMaps)):\n",
    "        detSort = origDetPixCounts[trainInds][sortInds[i][::1]]\n",
    "        detBins = []\n",
    "        for j in range(binNum):\n",
    "            detBins.append(detSort[binIndLims[j]:binIndLims[j+1]])\n",
    "        indYBinOrig = []\n",
    "\n",
    "        for j in range(binNum):\n",
    "            indYBinOrig.append(np.average(detBins[j]) / aveDetTrain)\n",
    "\n",
    "        yBinsOrig.append(np.array(indYBinOrig))\n",
    "\n",
    "    yBinsOrig = np.array(yBinsOrig)\n",
    "    \n",
    "    detPixCounts = np.copy(origDetPixCounts)\n",
    "    \n",
    "    allErrors = []\n",
    "\n",
    "    while(True):\n",
    "\n",
    "        yBins = []\n",
    "        for i in range(len(condMaps)):\n",
    "            detSort = detPixCounts[trainInds][sortInds[i][::1]]\n",
    "            detBins = []\n",
    "            for j in range(binNum):\n",
    "                detBins.append(detSort[binIndLims[j]:binIndLims[j+1]])\n",
    "            indYBin = []\n",
    "\n",
    "            for j in range(binNum):\n",
    "                indYBin.append(np.average(detBins[j]) / aveDetTrain)\n",
    "\n",
    "            yBins.append(np.array(indYBin))\n",
    "\n",
    "        yBins = np.array(yBins)\n",
    "\n",
    "        index, maxErr = mostSigInd(yBins)\n",
    "        if index == -1:\n",
    "            break\n",
    "\n",
    "        allErrors.append(maxErr)\n",
    "\n",
    "        corrFunc = inter.interp1d(xBins[index], yBins[index], bounds_error = False, fill_value = (yBins[index][0], yBins[index][-1]))\n",
    "\n",
    "        detPixCounts = detPixCounts / (corrFunc(condMaps[index]))\n",
    "\n",
    "        detPixCounts = detPixCounts * aveDetTrain / (np.average(detPixCounts[trainInds]))\n",
    "    \n",
    "    aveDetTest = np.average(detPixCounts[~trainInds])\n",
    "    \n",
    "    ra30Ave = np.average(detPixCounts[(~trainInds) & (np.isin(detPixIndicator, ra30Pix))])\n",
    "    galaPlaneAve = np.average(detPixCounts[(~trainInds) & (np.isin(detPixIndicator, galaPlanePix))])\n",
    "    randomAve = np.average(detPixCounts[(~trainInds) & (np.isin(detPixIndicator, randomPix))])\n",
    "    \n",
    "    oldPers = fitsio.read(areaErrorsFile)['Percent']\n",
    "    pers = np.append(oldPers, np.array([perObjectsToUse]))\n",
    "    \n",
    "    oldRa30 = fitsio.read(areaErrorsFile)['RA_30']\n",
    "    ra30 = np.append(oldRa30, np.array([ra30Ave / aveDetTest]))\n",
    "    \n",
    "    oldGalaPlane = fitsio.read(areaErrorsFile)['GALA_PLANE']\n",
    "    galaPlane = np.append(oldGalaPlane, np.array([galaPlaneAve / aveDetTest]))\n",
    "    \n",
    "    oldRandom = fitsio.read(areaErrorsFile)['RANDOM']\n",
    "    random = np.append(oldRandom, np.array([randomAve / aveDetTest]))\n",
    "    \n",
    "    my_table = Table()\n",
    "    my_table['Percent'] = pers\n",
    "    my_table['RA_30'] = ra30\n",
    "    my_table['GALA_PLANE'] = galaPlane\n",
    "    my_table['RANDOM'] = random\n",
    "    my_table.write(areaErrorsFile, overwrite = True)\n",
    "    \n",
    "    print(str(round(perObjectsToUse / 100, 3)) + ': ' + str(ra30Ave / aveDetTest))"
   ]
  },
  {
   "cell_type": "code",
   "execution_count": 20,
   "id": "946350bb-a201-482b-b6d2-3f2895766b09",
   "metadata": {},
   "outputs": [],
   "source": [
    "data = fitsio.read(areaErrorsFile)"
   ]
  },
  {
   "cell_type": "code",
   "execution_count": 21,
   "id": "22816681-b37d-44da-b869-ff6615240c4b",
   "metadata": {},
   "outputs": [],
   "source": [
    "pers = data['Percent']\n",
    "ra30 = data['RA_30']\n",
    "galaPlane = data['GALA_PLANE']\n",
    "random = data['RANDOM']"
   ]
  },
  {
   "cell_type": "code",
   "execution_count": 24,
   "id": "7b0861bb-d47e-4690-b92b-1120fffb36be",
   "metadata": {},
   "outputs": [
    {
     "data": {
      "image/png": "[encoded data removed]",
      "text/plain": [
       "<Figure size 960x720 with 1 Axes>"
      ]
     },
     "metadata": {},
     "output_type": "display_data"
    }
   ],
   "source": [
    "plt.figure(dpi = 120)\n",
    "plt.scatter(pers, random)\n",
    "plt.show()"
   ]
  },
  {
   "cell_type": "code",
   "execution_count": null,
   "id": "7196e5b6-2c78-49a5-b7a5-4ac630c86943",
   "metadata": {},
   "outputs": [],
   "source": []
  }
 ],
 "metadata": {
  "kernelspec": {
   "display_name": "Python 3 (ipykernel)",
   "language": "python",
   "name": "python3"
  },
  "language_info": {
   "codemirror_mode": {
    "name": "ipython",
    "version": 3
   },
   "file_extension": ".py",
   "mimetype": "text/x-python",
   "name": "python",
   "nbconvert_exporter": "python",
   "pygments_lexer": "ipython3",
   "version": "3.9.12"
  }
 },
 "nbformat": 4,
 "nbformat_minor": 5
}
