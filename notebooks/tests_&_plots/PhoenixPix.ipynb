{
 "cells": [
  {
   "cell_type": "code",
   "execution_count": 31,
   "id": "8083b3e4-18dc-4fc6-bf64-2e233f2e7a10",
   "metadata": {},
   "outputs": [],
   "source": [
    "import numpy as np\n",
    "import healpy as hp\n",
    "import fitsio\n",
    "import matplotlib.pyplot as plt\n",
    "import StellarConfig as strConfig"
   ]
  },
  {
   "cell_type": "code",
   "execution_count": 2,
   "id": "67d14ada-739f-4ddd-b4ec-3d1e66dffdc1",
   "metadata": {},
   "outputs": [],
   "source": [
    "res = 512"
   ]
  },
  {
   "cell_type": "code",
   "execution_count": 9,
   "id": "e6e07b0a-d73f-406e-ae01-81cda247ea64",
   "metadata": {},
   "outputs": [],
   "source": [
    "def sample_stream_angs(endPhi1, endPhi2, width, lenNum, widNum):\n",
    "    '''\n",
    "    Samples along a stream. Give endpoints in phi1 and phi2 like below and\n",
    "    a width (all in degrees). endPhi1 and endPhi2 should have length 2.\n",
    "    Endpoints in phi2 will be assumed to be nearly 0.\n",
    "    Give number of samples along the length and along the width,\n",
    "    both of these should be at least 2.\n",
    "    '''\n",
    "    phi1Sample = []\n",
    "    phi2MidSample = []\n",
    "    \n",
    "    for i in np.arange(lenNum):\n",
    "        phi1Sample.append(endPhi1[0] + (endPhi1[1] - endPhi1[0]) * (i / (lenNum - 1)))\n",
    "        phi2MidSample.append(endPhi2[0] + (endPhi2[1] - endPhi2[0]) * (i / (lenNum - 1)))\n",
    "    \n",
    "    phi1Sample = np.array(phi1Sample)\n",
    "    phi2MidSample = np.array(phi2MidSample)\n",
    "    \n",
    "    fullPhi1Sample = np.hstack((phi1Sample,) * widNum)\n",
    "    \n",
    "    for i in np.arange(widNum):\n",
    "        phi2Sample = phi2MidSample + ((-1 / 2) * width + width * (i / (widNum - 1)))\n",
    "        if i == 0:\n",
    "            fullPhi2Sample = phi2Sample\n",
    "        else:\n",
    "            fullPhi2Sample = np.append(fullPhi2Sample, phi2Sample)\n",
    "    return [fullPhi1Sample, fullPhi2Sample]\n",
    "    \n",
    "\n",
    "def phi12_rotmat(alpha,delta,R_phi12_radec):\n",
    "    '''\n",
    "    Converts coordinates (alpha,delta) to ones defined by a rotation matrix R_phi12_radec, applied on the original coordinates\n",
    "    Critical: All angles must be in degrees\n",
    "    '''\n",
    "\n",
    "    vec_radec = np.array([np.cos(alpha*np.pi/180.)*np.cos(delta*np.pi/180.),np.sin(alpha*np.pi/180.)*np.cos(delta*np.pi/180.),np.sin(delta*np.pi/180.)])\n",
    "\n",
    "    vec_phi12 = np.dot(R_phi12_radec,vec_radec).T\n",
    "\n",
    "    phi1 = np.arctan2(vec_phi12[:,1],vec_phi12[:,0])*180./np.pi\n",
    "    phi2 = np.arcsin(vec_phi12[:,2])*180./np.pi\n",
    "\n",
    "\n",
    "    return [phi1,phi2]\n",
    "\n",
    "\n",
    "def phi12_inv_pix(phi1, phi2, R_phi12_radec, res):\n",
    "    \n",
    "    vec_phi12 = np.array([np.cos(phi1*np.pi/180.)*np.cos(phi2*np.pi/180.),np.sin(phi1*np.pi/180.)*np.cos(phi2*np.pi/180.),np.sin(phi2*np.pi/180.)])\n",
    "    \n",
    "    R_radec_phi12 = R_phi12_radec.T\n",
    "    \n",
    "    vec_radec = np.dot(R_radec_phi12,vec_phi12).T\n",
    "    \n",
    "    alpha = np.arctan2(vec_radec[:,1],vec_radec[:,0])*180./np.pi\n",
    "    delta = np.arcsin(vec_radec[:,2])*180./np.pi\n",
    "    \n",
    "    return hp.ang2pix(res, alpha, delta, lonlat = True, nest = True)"
   ]
  },
  {
   "cell_type": "code",
   "execution_count": 4,
   "id": "ab39db99-79db-4065-8461-141bbd213fed",
   "metadata": {},
   "outputs": [],
   "source": [
    "# rotation matrix for Phoenix\n",
    "R=np.array([[0.59644670, 0.27151332, -0.75533559],\n",
    " [-0.48595429, -0.62682316, -0.60904938],\n",
    " [0.63882686, -0.73032406, 0.24192354]])"
   ]
  },
  {
   "cell_type": "code",
   "execution_count": 5,
   "id": "cd4527f4-abd1-4734-acbf-8a8dff18d11b",
   "metadata": {},
   "outputs": [],
   "source": [
    "# oldPhoFile = '/hdfs/bechtol/balrog/y3/y3a2_survey_conditions_maps/Kyle_Stuff/MaximumLikelihood/PhoenixStellarStream_Class1.5/Phoenix_Data.fits'\n",
    "# phoData = fitsio.read(oldPhoFile)\n",
    "# phoRa = phoData['RA']\n",
    "# phoDec = phoData['DEC']\n",
    "# phoWeights = phoData['WEIGHT']"
   ]
  },
  {
   "cell_type": "code",
   "execution_count": 6,
   "id": "d36127c2-25eb-4bba-bac8-9c85180340da",
   "metadata": {},
   "outputs": [],
   "source": [
    "# phi1, phi2 = phi12_rotmat(phoRa, phoDec, R) # rotate to 300s frame"
   ]
  },
  {
   "cell_type": "code",
   "execution_count": 7,
   "id": "eea65c50-ad05-4fef-b456-493f3e5d2902",
   "metadata": {},
   "outputs": [],
   "source": [
    "# pix = phi12_inv_pix(phi1, phi2, R, res)"
   ]
  },
  {
   "cell_type": "code",
   "execution_count": 50,
   "id": "905c1d30-a0c7-4416-9a32-8aa0ef6e4740",
   "metadata": {},
   "outputs": [],
   "source": [
    "endRa = np.array([20.1, 27.9])\n",
    "endDec = np.array([-55.3, -42.7])\n",
    "width = 0.16\n",
    "end1, end2 = phi12_rotmat(endRa, endDec, R) # phi1 and phi2\n",
    "# end1[1] = end1[0] + (1/3) * (end1[1] - end1[0])\n",
    "# end2[1] = end2[0] + (1/3) * (end2[1] - end2[0])"
   ]
  },
  {
   "cell_type": "code",
   "execution_count": 51,
   "id": "e92e9144-fb5a-4397-99d4-f261d7ef7b26",
   "metadata": {},
   "outputs": [],
   "source": [
    "strPhi1, strPhi2 = sample_stream_angs(end1, end2, width, 10000, 10)"
   ]
  },
  {
   "cell_type": "code",
   "execution_count": 52,
   "id": "af30e320-c090-4b10-85da-53ffe4f6dc6c",
   "metadata": {},
   "outputs": [],
   "source": [
    "strPix = np.unique(phi12_inv_pix(strPhi1, strPhi2, R, res))"
   ]
  },
  {
   "cell_type": "code",
   "execution_count": 53,
   "id": "04bd5192-8ea1-4a27-9805-0b5d33420324",
   "metadata": {},
   "outputs": [
    {
     "data": {
      "text/plain": [
       "296"
      ]
     },
     "execution_count": 53,
     "metadata": {},
     "output_type": "execute_result"
    }
   ],
   "source": [
    "len(strPix)"
   ]
  },
  {
   "cell_type": "code",
   "execution_count": 54,
   "id": "45719e57-dac0-4ed4-bf23-8370d65b3701",
   "metadata": {},
   "outputs": [],
   "source": [
    "backPhi1Only = np.linspace(end1[1], end1[0], 100000)\n",
    "backPhi2Only = np.append(np.linspace(-2, -1, 500), np.linspace(1, 2, 500))\n",
    "backPhi1, backPhi2 = np.meshgrid(backPhi1Only, backPhi2Only)\n",
    "backPhi1 = backPhi1.flatten()\n",
    "backPhi2 = backPhi2.flatten()"
   ]
  },
  {
   "cell_type": "code",
   "execution_count": 55,
   "id": "b662b3b0-3c02-410c-a117-2392cf7294c8",
   "metadata": {},
   "outputs": [],
   "source": [
    "backPix = np.unique(phi12_inv_pix(backPhi1, backPhi2, R, res))"
   ]
  },
  {
   "cell_type": "code",
   "execution_count": 56,
   "id": "6b825d50-0eed-4ffe-b2d8-de7902ce90b4",
   "metadata": {},
   "outputs": [
    {
     "data": {
      "text/plain": [
       "2363"
      ]
     },
     "execution_count": 56,
     "metadata": {},
     "output_type": "execute_result"
    }
   ],
   "source": [
    "len(backPix)"
   ]
  },
  {
   "cell_type": "code",
   "execution_count": 57,
   "id": "e6e30462-0cd6-477b-a5b8-9059f2cdff4e",
   "metadata": {},
   "outputs": [],
   "source": [
    "import astropy.io.fits as fits\n",
    "from astropy.table import Table\n",
    "stellarDir = strConfig.stellarDir"
   ]
  },
  {
   "cell_type": "code",
   "execution_count": 58,
   "id": "aab8c0ff-3ee0-47ff-8e11-596f71626318",
   "metadata": {},
   "outputs": [],
   "source": [
    "strPixFile = stellarDir + 'Phoenix_Pix.fits'\n",
    "backPixFile = stellarDir + 'Background_Pix.fits'\n",
    "\n",
    "str_table = Table()\n",
    "str_table['PIX'] = strPix\n",
    "str_table.write(strPixFile, overwrite = True)\n",
    "\n",
    "back_table = Table()\n",
    "back_table['PIX'] = backPix\n",
    "back_table.write(backPixFile, overwrite = True)"
   ]
  },
  {
   "cell_type": "code",
   "execution_count": 11,
   "id": "4384286e-7526-4136-b5de-e1f5dd5bb26b",
   "metadata": {},
   "outputs": [
    {
     "data": {
      "image/png": "[encoded data removed]",
      "text/plain": [
       "<Figure size 768x576 with 2 Axes>"
      ]
     },
     "metadata": {},
     "output_type": "display_data"
    }
   ],
   "source": [
    "plt.figure(dpi=120)\n",
    "plt.hist2d(phi1, phi2, bins=100, cmap=\"gray_r\", vmax=100, vmin=0, weights = phoWeights)#, range=[[-15,15],[-5,5]], vmax=25, cmap=\"gray_r\")\n",
    "plt.colorbar()\n",
    "plt.xlabel(\"$\\phi_1$\")\n",
    "plt.ylabel(\"$\\phi_2$\")\n",
    "plt.show()"
   ]
  },
  {
   "cell_type": "code",
   "execution_count": null,
   "id": "a46e4532-3d85-4672-804b-3799793130aa",
   "metadata": {},
   "outputs": [],
   "source": []
  }
 ],
 "metadata": {
  "kernelspec": {
   "display_name": "Python 3 (ipykernel)",
   "language": "python",
   "name": "python3"
  },
  "language_info": {
   "codemirror_mode": {
    "name": "ipython",
    "version": 3
   },
   "file_extension": ".py",
   "mimetype": "text/x-python",
   "name": "python",
   "nbconvert_exporter": "python",
   "pygments_lexer": "ipython3",
   "version": "3.9.12"
  }
 },
 "nbformat": 4,
 "nbformat_minor": 5
}
